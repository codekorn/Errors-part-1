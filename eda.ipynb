{
 "cells": [
  {
   "cell_type": "code",
   "execution_count": 2,
   "id": "49757ea0",
   "metadata": {},
   "outputs": [],
   "source": [
    "import pandas as pd\n",
    "import numpy as np\n",
    "import matplotlib.pyplot as plt \n",
    "import seaborn as sns\n",
    "import plotly.express as px"
   ]
  },
  {
   "cell_type": "code",
   "execution_count": 4,
   "id": "1bfc2699",
   "metadata": {},
   "outputs": [],
   "source": [
    "df_2019 = pd.read_csv('2019_scores.csv')"
   ]
  },
  {
   "cell_type": "code",
   "execution_count": 6,
   "id": "6eb346f9",
   "metadata": {},
   "outputs": [
    {
     "data": {
      "text/plain": [
       "Index(['date', 'away_team', 'away_runs', 'away_hits', 'away_errors',\n",
       "       'home_team', 'home_runs', 'home_hits', 'home_errors'],\n",
       "      dtype='object')"
      ]
     },
     "execution_count": 6,
     "metadata": {},
     "output_type": "execute_result"
    }
   ],
   "source": [
    "df_2019.columns"
   ]
  },
  {
   "cell_type": "code",
   "execution_count": 7,
   "id": "18f9b5be",
   "metadata": {},
   "outputs": [
    {
     "data": {
      "text/html": [
       "<div>\n",
       "<style scoped>\n",
       "    .dataframe tbody tr th:only-of-type {\n",
       "        vertical-align: middle;\n",
       "    }\n",
       "\n",
       "    .dataframe tbody tr th {\n",
       "        vertical-align: top;\n",
       "    }\n",
       "\n",
       "    .dataframe thead th {\n",
       "        text-align: right;\n",
       "    }\n",
       "</style>\n",
       "<table border=\"1\" class=\"dataframe\">\n",
       "  <thead>\n",
       "    <tr style=\"text-align: right;\">\n",
       "      <th></th>\n",
       "      <th>away_team</th>\n",
       "      <th>away_runs</th>\n",
       "      <th>home_team</th>\n",
       "      <th>home_runs</th>\n",
       "    </tr>\n",
       "  </thead>\n",
       "  <tbody>\n",
       "    <tr>\n",
       "      <th>0</th>\n",
       "      <td>Mariners</td>\n",
       "      <td>9</td>\n",
       "      <td>Athletics</td>\n",
       "      <td>7</td>\n",
       "    </tr>\n",
       "    <tr>\n",
       "      <th>1</th>\n",
       "      <td>Pirates</td>\n",
       "      <td>6</td>\n",
       "      <td>Twins</td>\n",
       "      <td>5</td>\n",
       "    </tr>\n",
       "    <tr>\n",
       "      <th>2</th>\n",
       "      <td>Tigers</td>\n",
       "      <td>3</td>\n",
       "      <td>Phillies</td>\n",
       "      <td>1</td>\n",
       "    </tr>\n",
       "    <tr>\n",
       "      <th>3</th>\n",
       "      <td>Marlins</td>\n",
       "      <td>6</td>\n",
       "      <td>Cardinals</td>\n",
       "      <td>0</td>\n",
       "    </tr>\n",
       "    <tr>\n",
       "      <th>4</th>\n",
       "      <td>Yankees</td>\n",
       "      <td>1</td>\n",
       "      <td>Astros</td>\n",
       "      <td>2</td>\n",
       "    </tr>\n",
       "    <tr>\n",
       "      <th>...</th>\n",
       "      <td>...</td>\n",
       "      <td>...</td>\n",
       "      <td>...</td>\n",
       "      <td>...</td>\n",
       "    </tr>\n",
       "    <tr>\n",
       "      <th>2477</th>\n",
       "      <td>Braves</td>\n",
       "      <td>6</td>\n",
       "      <td>Mets</td>\n",
       "      <td>7</td>\n",
       "    </tr>\n",
       "    <tr>\n",
       "      <th>2478</th>\n",
       "      <td>Tigers</td>\n",
       "      <td>3</td>\n",
       "      <td>White Sox</td>\n",
       "      <td>5</td>\n",
       "    </tr>\n",
       "    <tr>\n",
       "      <th>2479</th>\n",
       "      <td>Brewers</td>\n",
       "      <td>3</td>\n",
       "      <td>Rockies</td>\n",
       "      <td>4</td>\n",
       "    </tr>\n",
       "    <tr>\n",
       "      <th>2480</th>\n",
       "      <td>Cubs</td>\n",
       "      <td>0</td>\n",
       "      <td>Cardinals</td>\n",
       "      <td>9</td>\n",
       "    </tr>\n",
       "    <tr>\n",
       "      <th>2481</th>\n",
       "      <td>Twins</td>\n",
       "      <td>4</td>\n",
       "      <td>Royals</td>\n",
       "      <td>5</td>\n",
       "    </tr>\n",
       "  </tbody>\n",
       "</table>\n",
       "<p>2482 rows × 4 columns</p>\n",
       "</div>"
      ],
      "text/plain": [
       "     away_team  away_runs  home_team  home_runs\n",
       "0     Mariners          9  Athletics          7\n",
       "1      Pirates          6      Twins          5\n",
       "2       Tigers          3   Phillies          1\n",
       "3      Marlins          6  Cardinals          0\n",
       "4      Yankees          1     Astros          2\n",
       "...        ...        ...        ...        ...\n",
       "2477    Braves          6       Mets          7\n",
       "2478    Tigers          3  White Sox          5\n",
       "2479   Brewers          3    Rockies          4\n",
       "2480      Cubs          0  Cardinals          9\n",
       "2481     Twins          4     Royals          5\n",
       "\n",
       "[2482 rows x 4 columns]"
      ]
     },
     "execution_count": 7,
     "metadata": {},
     "output_type": "execute_result"
    }
   ],
   "source": [
    "df_2019[['away_team','away_runs','home_team','home_runs']]"
   ]
  },
  {
   "cell_type": "code",
   "execution_count": 8,
   "id": "92ffed8e",
   "metadata": {},
   "outputs": [
    {
     "data": {
      "text/html": [
       "<div>\n",
       "<style scoped>\n",
       "    .dataframe tbody tr th:only-of-type {\n",
       "        vertical-align: middle;\n",
       "    }\n",
       "\n",
       "    .dataframe tbody tr th {\n",
       "        vertical-align: top;\n",
       "    }\n",
       "\n",
       "    .dataframe thead th {\n",
       "        text-align: right;\n",
       "    }\n",
       "</style>\n",
       "<table border=\"1\" class=\"dataframe\">\n",
       "  <thead>\n",
       "    <tr style=\"text-align: right;\">\n",
       "      <th></th>\n",
       "      <th>date</th>\n",
       "      <th>away_team</th>\n",
       "      <th>away_runs</th>\n",
       "      <th>away_hits</th>\n",
       "      <th>away_errors</th>\n",
       "      <th>home_team</th>\n",
       "      <th>home_runs</th>\n",
       "      <th>home_hits</th>\n",
       "      <th>home_errors</th>\n",
       "    </tr>\n",
       "  </thead>\n",
       "  <tbody>\n",
       "    <tr>\n",
       "      <th>4</th>\n",
       "      <td>2019-03-20</td>\n",
       "      <td>Yankees</td>\n",
       "      <td>1</td>\n",
       "      <td>4</td>\n",
       "      <td>2</td>\n",
       "      <td>Astros</td>\n",
       "      <td>2</td>\n",
       "      <td>6</td>\n",
       "      <td>0</td>\n",
       "    </tr>\n",
       "    <tr>\n",
       "      <th>10</th>\n",
       "      <td>2019-03-20</td>\n",
       "      <td>Angels</td>\n",
       "      <td>2</td>\n",
       "      <td>8</td>\n",
       "      <td>0</td>\n",
       "      <td>Indians</td>\n",
       "      <td>4</td>\n",
       "      <td>8</td>\n",
       "      <td>0</td>\n",
       "    </tr>\n",
       "    <tr>\n",
       "      <th>13</th>\n",
       "      <td>2019-03-20</td>\n",
       "      <td>Indians</td>\n",
       "      <td>0</td>\n",
       "      <td>4</td>\n",
       "      <td>0</td>\n",
       "      <td>Giants</td>\n",
       "      <td>13</td>\n",
       "      <td>16</td>\n",
       "      <td>0</td>\n",
       "    </tr>\n",
       "    <tr>\n",
       "      <th>15</th>\n",
       "      <td>2019-03-21</td>\n",
       "      <td>Astros</td>\n",
       "      <td>3</td>\n",
       "      <td>7</td>\n",
       "      <td>1</td>\n",
       "      <td>Tigers</td>\n",
       "      <td>5</td>\n",
       "      <td>6</td>\n",
       "      <td>0</td>\n",
       "    </tr>\n",
       "    <tr>\n",
       "      <th>16</th>\n",
       "      <td>2019-03-21</td>\n",
       "      <td>Orioles</td>\n",
       "      <td>5</td>\n",
       "      <td>7</td>\n",
       "      <td>0</td>\n",
       "      <td>Pirates</td>\n",
       "      <td>7</td>\n",
       "      <td>7</td>\n",
       "      <td>0</td>\n",
       "    </tr>\n",
       "    <tr>\n",
       "      <th>...</th>\n",
       "      <td>...</td>\n",
       "      <td>...</td>\n",
       "      <td>...</td>\n",
       "      <td>...</td>\n",
       "      <td>...</td>\n",
       "      <td>...</td>\n",
       "      <td>...</td>\n",
       "      <td>...</td>\n",
       "      <td>...</td>\n",
       "    </tr>\n",
       "    <tr>\n",
       "      <th>2477</th>\n",
       "      <td>2019-09-29</td>\n",
       "      <td>Braves</td>\n",
       "      <td>6</td>\n",
       "      <td>11</td>\n",
       "      <td>0</td>\n",
       "      <td>Mets</td>\n",
       "      <td>7</td>\n",
       "      <td>15</td>\n",
       "      <td>0</td>\n",
       "    </tr>\n",
       "    <tr>\n",
       "      <th>2478</th>\n",
       "      <td>2019-09-29</td>\n",
       "      <td>Tigers</td>\n",
       "      <td>3</td>\n",
       "      <td>7</td>\n",
       "      <td>1</td>\n",
       "      <td>White Sox</td>\n",
       "      <td>5</td>\n",
       "      <td>4</td>\n",
       "      <td>0</td>\n",
       "    </tr>\n",
       "    <tr>\n",
       "      <th>2479</th>\n",
       "      <td>2019-09-29</td>\n",
       "      <td>Brewers</td>\n",
       "      <td>3</td>\n",
       "      <td>7</td>\n",
       "      <td>2</td>\n",
       "      <td>Rockies</td>\n",
       "      <td>4</td>\n",
       "      <td>8</td>\n",
       "      <td>1</td>\n",
       "    </tr>\n",
       "    <tr>\n",
       "      <th>2480</th>\n",
       "      <td>2019-09-29</td>\n",
       "      <td>Cubs</td>\n",
       "      <td>0</td>\n",
       "      <td>3</td>\n",
       "      <td>0</td>\n",
       "      <td>Cardinals</td>\n",
       "      <td>9</td>\n",
       "      <td>9</td>\n",
       "      <td>0</td>\n",
       "    </tr>\n",
       "    <tr>\n",
       "      <th>2481</th>\n",
       "      <td>2019-09-29</td>\n",
       "      <td>Twins</td>\n",
       "      <td>4</td>\n",
       "      <td>6</td>\n",
       "      <td>0</td>\n",
       "      <td>Royals</td>\n",
       "      <td>5</td>\n",
       "      <td>9</td>\n",
       "      <td>0</td>\n",
       "    </tr>\n",
       "  </tbody>\n",
       "</table>\n",
       "<p>1316 rows × 9 columns</p>\n",
       "</div>"
      ],
      "text/plain": [
       "            date away_team  away_runs  away_hits  away_errors  home_team  \\\n",
       "4     2019-03-20   Yankees          1          4            2     Astros   \n",
       "10    2019-03-20    Angels          2          8            0    Indians   \n",
       "13    2019-03-20   Indians          0          4            0     Giants   \n",
       "15    2019-03-21    Astros          3          7            1     Tigers   \n",
       "16    2019-03-21   Orioles          5          7            0    Pirates   \n",
       "...          ...       ...        ...        ...          ...        ...   \n",
       "2477  2019-09-29    Braves          6         11            0       Mets   \n",
       "2478  2019-09-29    Tigers          3          7            1  White Sox   \n",
       "2479  2019-09-29   Brewers          3          7            2    Rockies   \n",
       "2480  2019-09-29      Cubs          0          3            0  Cardinals   \n",
       "2481  2019-09-29     Twins          4          6            0     Royals   \n",
       "\n",
       "      home_runs  home_hits  home_errors  \n",
       "4             2          6            0  \n",
       "10            4          8            0  \n",
       "13           13         16            0  \n",
       "15            5          6            0  \n",
       "16            7          7            0  \n",
       "...         ...        ...          ...  \n",
       "2477          7         15            0  \n",
       "2478          5          4            0  \n",
       "2479          4          8            1  \n",
       "2480          9          9            0  \n",
       "2481          5          9            0  \n",
       "\n",
       "[1316 rows x 9 columns]"
      ]
     },
     "execution_count": 8,
     "metadata": {},
     "output_type": "execute_result"
    }
   ],
   "source": [
    "df_2019[df_2019['home_runs'] > df_2019['away_runs']]"
   ]
  },
  {
   "cell_type": "code",
   "execution_count": 10,
   "id": "16609795",
   "metadata": {},
   "outputs": [],
   "source": [
    "df_2019['date'] = pd.to_datetime(df_2019['date'])"
   ]
  },
  {
   "cell_type": "code",
   "execution_count": 17,
   "id": "bd3939ca",
   "metadata": {},
   "outputs": [],
   "source": [
    "first_games = df_2019[(df_2019['date'] <= '2019-03-21')\n",
    "                      & (df_2019['away_team'] == 'Mariners')]\n",
    "regular_start = df_2019[df_2019['date'] >= '2019-03-28']"
   ]
  },
  {
   "cell_type": "code",
   "execution_count": 22,
   "id": "7a75b1e6",
   "metadata": {},
   "outputs": [],
   "source": [
    "df_2019 = pd.concat([first_games, regular_start]).reset_index(drop=True)"
   ]
  },
  {
   "cell_type": "code",
   "execution_count": 32,
   "id": "5cc2c758",
   "metadata": {},
   "outputs": [],
   "source": [
    "df_2019['winner'] = np.where(df_2019.away_runs > df_2019.home_runs,\n",
    "                 df_2019['away_team'], df_2019['home_team'])"
   ]
  },
  {
   "cell_type": "code",
   "execution_count": 33,
   "id": "daea2499",
   "metadata": {},
   "outputs": [],
   "source": [
    "df_2019['least errors'] = np.where(df_2019.away_errors < df_2019.home_errors,\n",
    "                 df_2019['away_team'], np.where(\n",
    "                     df_2019.away_errors > df_2019.home_errors, df_2019['home_team'], 0\n",
    "                 ))"
   ]
  },
  {
   "cell_type": "code",
   "execution_count": 38,
   "id": "dbc4822e",
   "metadata": {},
   "outputs": [],
   "source": [
    "diff_error_df = df_2019[df_2019['least errors'] != 0]"
   ]
  },
  {
   "cell_type": "code",
   "execution_count": 42,
   "id": "a60ee0a5",
   "metadata": {},
   "outputs": [],
   "source": [
    "winner_least_erorrs = diff_error_df[diff_error_df.winner == diff_error_df['least errors']]"
   ]
  },
  {
   "cell_type": "code",
   "execution_count": 43,
   "id": "627eb964",
   "metadata": {},
   "outputs": [],
   "source": [
    "won = len(winner_least_erorrs.index)"
   ]
  },
  {
   "cell_type": "code",
   "execution_count": 44,
   "id": "05f2e26c",
   "metadata": {},
   "outputs": [],
   "source": [
    "lost = len(diff_error_df)-len(winner_least_erorrs.index)"
   ]
  },
  {
   "cell_type": "code",
   "execution_count": 45,
   "id": "5f7a40c9",
   "metadata": {},
   "outputs": [
    {
     "data": {
      "text/plain": [
       "(844, 496)"
      ]
     },
     "execution_count": 45,
     "metadata": {},
     "output_type": "execute_result"
    }
   ],
   "source": [
    "won,lost"
   ]
  },
  {
   "cell_type": "code",
   "execution_count": 81,
   "id": "d56243dd",
   "metadata": {},
   "outputs": [
    {
     "ename": "ValueError",
     "evalue": "string indices must be integers\n\nInvalid value received for the 'xaxis' property of bar\n\n    The 'xaxis' property is an identifier of a particular\n    subplot, of type 'x', that may be specified as the string 'x'\n    optionally followed by an integer >= 1\n    (e.g. 'x', 'x1', 'x2', 'x3', etc.)\n        \n\nProperty does not support subscripting:\nxaxis_title\n^^^^^",
     "output_type": "error",
     "traceback": [
      "\u001b[0;31m---------------------------------------------------------------------------\u001b[0m",
      "\u001b[0;31mValueError\u001b[0m                                Traceback (most recent call last)",
      "\u001b[0;32m/var/folders/6n/z6rxdnf97bn07rs5km3j2rjm0000gn/T/ipykernel_21767/1738688114.py\u001b[0m in \u001b[0;36m<module>\u001b[0;34m\u001b[0m\n\u001b[1;32m      1\u001b[0m fig = px.bar(y=[won,lost], x=['Won','Lost'],\n\u001b[1;32m      2\u001b[0m              title='Wins vs. losses for team with least errors', width=400, height=400)\n\u001b[0;32m----> 3\u001b[0;31m fig.update_traces(marker_color=['lightblue','lightsalmon'],\n\u001b[0m\u001b[1;32m      4\u001b[0m                  \u001b[0mxaxis_title\u001b[0m\u001b[0;34m=\u001b[0m\u001b[0;34m\"Wins and Losses\"\u001b[0m\u001b[0;34m,\u001b[0m\u001b[0;34m\u001b[0m\u001b[0;34m\u001b[0m\u001b[0m\n\u001b[1;32m      5\u001b[0m                  yaxis_title=\"Count\",)\n",
      "\u001b[0;32m~/opt/anaconda3/lib/python3.9/site-packages/plotly/basedatatypes.py\u001b[0m in \u001b[0;36mupdate_traces\u001b[0;34m(self, patch, selector, row, col, secondary_y, overwrite, **kwargs)\u001b[0m\n\u001b[1;32m   1374\u001b[0m             \u001b[0mselector\u001b[0m\u001b[0;34m=\u001b[0m\u001b[0mselector\u001b[0m\u001b[0;34m,\u001b[0m \u001b[0mrow\u001b[0m\u001b[0;34m=\u001b[0m\u001b[0mrow\u001b[0m\u001b[0;34m,\u001b[0m \u001b[0mcol\u001b[0m\u001b[0;34m=\u001b[0m\u001b[0mcol\u001b[0m\u001b[0;34m,\u001b[0m \u001b[0msecondary_y\u001b[0m\u001b[0;34m=\u001b[0m\u001b[0msecondary_y\u001b[0m\u001b[0;34m\u001b[0m\u001b[0;34m\u001b[0m\u001b[0m\n\u001b[1;32m   1375\u001b[0m         ):\n\u001b[0;32m-> 1376\u001b[0;31m             \u001b[0mtrace\u001b[0m\u001b[0;34m.\u001b[0m\u001b[0mupdate\u001b[0m\u001b[0;34m(\u001b[0m\u001b[0mpatch\u001b[0m\u001b[0;34m,\u001b[0m \u001b[0moverwrite\u001b[0m\u001b[0;34m=\u001b[0m\u001b[0moverwrite\u001b[0m\u001b[0;34m,\u001b[0m \u001b[0;34m**\u001b[0m\u001b[0mkwargs\u001b[0m\u001b[0;34m)\u001b[0m\u001b[0;34m\u001b[0m\u001b[0;34m\u001b[0m\u001b[0m\n\u001b[0m\u001b[1;32m   1377\u001b[0m         \u001b[0;32mreturn\u001b[0m \u001b[0mself\u001b[0m\u001b[0;34m\u001b[0m\u001b[0;34m\u001b[0m\u001b[0m\n\u001b[1;32m   1378\u001b[0m \u001b[0;34m\u001b[0m\u001b[0m\n",
      "\u001b[0;32m~/opt/anaconda3/lib/python3.9/site-packages/plotly/basedatatypes.py\u001b[0m in \u001b[0;36mupdate\u001b[0;34m(self, dict1, overwrite, **kwargs)\u001b[0m\n\u001b[1;32m   5088\u001b[0m             \u001b[0;32mwith\u001b[0m \u001b[0mself\u001b[0m\u001b[0;34m.\u001b[0m\u001b[0mfigure\u001b[0m\u001b[0;34m.\u001b[0m\u001b[0mbatch_update\u001b[0m\u001b[0;34m(\u001b[0m\u001b[0;34m)\u001b[0m\u001b[0;34m:\u001b[0m\u001b[0;34m\u001b[0m\u001b[0;34m\u001b[0m\u001b[0m\n\u001b[1;32m   5089\u001b[0m                 \u001b[0mBaseFigure\u001b[0m\u001b[0;34m.\u001b[0m\u001b[0m_perform_update\u001b[0m\u001b[0;34m(\u001b[0m\u001b[0mself\u001b[0m\u001b[0;34m,\u001b[0m \u001b[0mdict1\u001b[0m\u001b[0;34m,\u001b[0m \u001b[0moverwrite\u001b[0m\u001b[0;34m=\u001b[0m\u001b[0moverwrite\u001b[0m\u001b[0;34m)\u001b[0m\u001b[0;34m\u001b[0m\u001b[0;34m\u001b[0m\u001b[0m\n\u001b[0;32m-> 5090\u001b[0;31m                 \u001b[0mBaseFigure\u001b[0m\u001b[0;34m.\u001b[0m\u001b[0m_perform_update\u001b[0m\u001b[0;34m(\u001b[0m\u001b[0mself\u001b[0m\u001b[0;34m,\u001b[0m \u001b[0mkwargs\u001b[0m\u001b[0;34m,\u001b[0m \u001b[0moverwrite\u001b[0m\u001b[0;34m=\u001b[0m\u001b[0moverwrite\u001b[0m\u001b[0;34m)\u001b[0m\u001b[0;34m\u001b[0m\u001b[0;34m\u001b[0m\u001b[0m\n\u001b[0m\u001b[1;32m   5091\u001b[0m         \u001b[0;32melse\u001b[0m\u001b[0;34m:\u001b[0m\u001b[0;34m\u001b[0m\u001b[0;34m\u001b[0m\u001b[0m\n\u001b[1;32m   5092\u001b[0m             \u001b[0mBaseFigure\u001b[0m\u001b[0;34m.\u001b[0m\u001b[0m_perform_update\u001b[0m\u001b[0;34m(\u001b[0m\u001b[0mself\u001b[0m\u001b[0;34m,\u001b[0m \u001b[0mdict1\u001b[0m\u001b[0;34m,\u001b[0m \u001b[0moverwrite\u001b[0m\u001b[0;34m=\u001b[0m\u001b[0moverwrite\u001b[0m\u001b[0;34m)\u001b[0m\u001b[0;34m\u001b[0m\u001b[0;34m\u001b[0m\u001b[0m\n",
      "\u001b[0;32m~/opt/anaconda3/lib/python3.9/site-packages/plotly/basedatatypes.py\u001b[0m in \u001b[0;36m_perform_update\u001b[0;34m(plotly_obj, update_obj, overwrite)\u001b[0m\n\u001b[1;32m   3883\u001b[0m                     \u001b[0;31m# contain the _raise_on_invalid_property_error\u001b[0m\u001b[0;34m\u001b[0m\u001b[0;34m\u001b[0m\u001b[0m\n\u001b[1;32m   3884\u001b[0m                     \u001b[0;31m# generated message\u001b[0m\u001b[0;34m\u001b[0m\u001b[0;34m\u001b[0m\u001b[0m\n\u001b[0;32m-> 3885\u001b[0;31m                     \u001b[0;32mraise\u001b[0m \u001b[0merr\u001b[0m\u001b[0;34m\u001b[0m\u001b[0;34m\u001b[0m\u001b[0m\n\u001b[0m\u001b[1;32m   3886\u001b[0m \u001b[0;34m\u001b[0m\u001b[0m\n\u001b[1;32m   3887\u001b[0m             \u001b[0;31m# Convert update_obj to dict\u001b[0m\u001b[0;34m\u001b[0m\u001b[0;34m\u001b[0m\u001b[0m\n",
      "\u001b[0;31mValueError\u001b[0m: string indices must be integers\n\nInvalid value received for the 'xaxis' property of bar\n\n    The 'xaxis' property is an identifier of a particular\n    subplot, of type 'x', that may be specified as the string 'x'\n    optionally followed by an integer >= 1\n    (e.g. 'x', 'x1', 'x2', 'x3', etc.)\n        \n\nProperty does not support subscripting:\nxaxis_title\n^^^^^"
     ]
    }
   ],
   "source": [
    "fig = px.bar(y=[won,lost], x=['Won','Lost'],\n",
    "             title='Wins vs. losses for team with least errors', width=400, height=400)\n",
    "fig.update_traces(marker_color=['lightblue','lightsalmon'],\n",
    "                 xaxis_title=\"Wins and Losses\",\n",
    "                 yaxis_title=\"Count\",)"
   ]
  },
  {
   "cell_type": "code",
   "execution_count": null,
   "id": "47dc5b64",
   "metadata": {},
   "outputs": [],
   "source": []
  }
 ],
 "metadata": {
  "kernelspec": {
   "display_name": "Python 3 (ipykernel)",
   "language": "python",
   "name": "python3"
  },
  "language_info": {
   "codemirror_mode": {
    "name": "ipython",
    "version": 3
   },
   "file_extension": ".py",
   "mimetype": "text/x-python",
   "name": "python",
   "nbconvert_exporter": "python",
   "pygments_lexer": "ipython3",
   "version": "3.9.7"
  }
 },
 "nbformat": 4,
 "nbformat_minor": 5
}
