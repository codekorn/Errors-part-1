{
 "cells": [
  {
   "cell_type": "code",
   "execution_count": 51,
   "id": "2ef7adda",
   "metadata": {},
   "outputs": [],
   "source": [
    "mt_c = {'a': 3, 'k': 0}"
   ]
  },
  {
   "cell_type": "code",
   "execution_count": 53,
   "id": "6ea7b5a6",
   "metadata": {},
   "outputs": [
    {
     "data": {
      "text/plain": [
       "{3: 'a', 0: 'k'}"
      ]
     },
     "execution_count": 53,
     "metadata": {},
     "output_type": "execute_result"
    }
   ],
   "source": [
    "{v:k for k,v in mt_c.items()}"
   ]
  },
  {
   "cell_type": "code",
   "execution_count": null,
   "id": "99f4aefc",
   "metadata": {},
   "outputs": [],
   "source": [
    "\n",
    "\n",
    "engilsh_dict = { 'A':'.-', 'B':'-...',\n",
    "                'C':'-.-.', 'D':'-..', 'E':'.',\n",
    "                'F':'..-.', 'G':'--.', 'H':'....',\n",
    "                'I':'..', 'J':'.---', 'K':'-.-',\n",
    "                'L':'.-..', 'M':'--', 'N':'-.',\n",
    "                'O':'---', 'P':'.--.', 'Q':'--.-',\n",
    "                'R':'.-.', 'S':'...', 'T':'-',\n",
    "                'U':'..-', 'V':'...-', 'W':'.--',\n",
    "                'X':'-..-', 'Y':'-.--', 'Z':'--..',\n",
    "                '1':'.----', '2':'..---', '3':'...--',\n",
    "                '4':'....-', '5':'.....', '6':'-....',\n",
    "                '7':'--...', '8':'---..', '9':'----.',\n",
    "                '0':'-----', ', ':'--..--', '.':'.-.-.-',\n",
    "                '?':'..--..', '/':'-..-.', '-':'-....-',\n",
    "                '(':'-.--.', ')':'-.--.-'}\n",
    "morse_dict = {v:k for k,v in engilsh_dict.items()}\n",
    "def run(self, morseToEnglish, textToTranslate):\n",
    "    #\n",
    "    # Write your code below; return type and arguments should be according to the problem\\'s requirements\n",
    "    #\n",
    "\n",
    "    return translatedText\n",
    "\n",
    "def morseToEnglish(self,morse):\n",
    "    translatedText = ''\n",
    "    word = ''\n",
    "    spaces = 0\n",
    "    for i in range(len(morse)):\n",
    "        if morse[i] != ' ':\n",
    "            word += morse_dict[morse[i]]:\n",
    "        else:\n",
    "            spaces += 1\n",
    "\n",
    "\n",
    "def englishToMorse(self,textToTranslate):\n",
    "\n"
   ]
  }
 ],
 "metadata": {
  "kernelspec": {
   "display_name": "Python 3 (ipykernel)",
   "language": "python",
   "name": "python3"
  },
  "language_info": {
   "codemirror_mode": {
    "name": "ipython",
    "version": 3
   },
   "file_extension": ".py",
   "mimetype": "text/x-python",
   "name": "python",
   "nbconvert_exporter": "python",
   "pygments_lexer": "ipython3",
   "version": "3.9.7"
  }
 },
 "nbformat": 4,
 "nbformat_minor": 5
}
