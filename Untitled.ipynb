{
 "cells": [
  {
   "cell_type": "code",
   "execution_count": 51,
   "id": "7905b1a0",
   "metadata": {},
   "outputs": [],
   "source": [
    "mt_c = {'a': 3, 'k': 0}"
   ]
  },
  {
   "cell_type": "code",
   "execution_count": 53,
   "id": "f68828cf",
   "metadata": {},
   "outputs": [
    {
     "data": {
      "text/plain": [
       "{3: 'a', 0: 'k'}"
      ]
     },
     "execution_count": 53,
     "metadata": {},
     "output_type": "execute_result"
    }
   ],
   "source": [
    "{v:k for k,v in mt_c.items()}"
   ]
  },
  {
   "cell_type": "code",
   "execution_count": 82,
   "id": "c2c2653c",
   "metadata": {},
   "outputs": [],
   "source": [
    "english_dict = { 'A':'.-', 'B':'-...',\n",
    "                'C':'-.-.', 'D':'-..', 'E':'.',\n",
    "                'F':'..-.', 'G':'--.', 'H':'....',\n",
    "                'I':'..', 'J':'.---', 'K':'-.-',\n",
    "                'L':'.-..', 'M':'--', 'N':'-.',\n",
    "                'O':'---', 'P':'.--.', 'Q':'--.-',\n",
    "                'R':'.-.', 'S':'...', 'T':'-',\n",
    "                'U':'..-', 'V':'...-', 'W':'.--',\n",
    "                'X':'-..-', 'Y':'-.--', 'Z':'--..',\n",
    "                '1':'.----', '2':'..---', '3':'...--',\n",
    "                '4':'....-', '5':'.....', '6':'-....',\n",
    "                '7':'--...', '8':'---..', '9':'----.',\n",
    "                '0':'-----', ', ':'--..--', '.':'.-.-.-',\n",
    "                '?':'..--..', '/':'-..-.', '-':'-....-',\n",
    "                '(':'-.--.', ')':'-.--.-'}\n",
    "morse_dict = {v:k for k,v in engilsh_dict.items()}\n",
    "def run(morseToEnglish, textToTranslate):\n",
    "    #\n",
    "    # Write your code below; return type and arguments should be according to the problem\\'s requirements\n",
    "    #\n",
    "\n",
    "    return translatedText"
   ]
  },
  {
   "cell_type": "code",
   "execution_count": 73,
   "id": "a2b625f3",
   "metadata": {},
   "outputs": [],
   "source": [
    "def morseToEnglish(morse):\n",
    "    translatedText = ''\n",
    "    word = ''\n",
    "    spaces = 0\n",
    "    for i in range(len(morse)):\n",
    "        if morse[i] != ' ':\n",
    "            word += morse[i]\n",
    "        else:\n",
    "            print(word)\n",
    "            spaces += 1\n",
    "            next_char = morse[i+1]\n",
    "            if next_char != ' ':\n",
    "                if word not in morse_dict.keys():\n",
    "                    print(translatedText)\n",
    "                    return 'Invalid Morse Code Or Spacing'\n",
    "                translatedText += morse_dict[word]\n",
    "                if spaces == 3:\n",
    "                    translatedText += ' '\n",
    "                elif spaces % 6 == 0:\n",
    "                    translatedText += ' ' * (spaces // 6) * 2\n",
    "                elif spaces != 1:\n",
    "                    \n",
    "                    return 'Invalid Morse Code Or Spacing'\n",
    "                word = ''\n",
    "                spaces = 0 \n",
    "    return translatedText \n",
    "                "
   ]
  },
  {
   "cell_type": "code",
   "execution_count": 74,
   "id": "c191143f",
   "metadata": {},
   "outputs": [],
   "source": [
    "morse_text = \"\"\"- .... . .-- .. --.. .- .-. -.. --.- ..- .. -.-. -.- .-.. -.-- .--- .. -. -..- . -.. - …. . --. -. --- -- . … -… . ..-. --- .-. . - …. . -.-- …- .- .--. --- .-. .. --.. . -.. .-.-.-\"\"\""
   ]
  },
  {
   "cell_type": "code",
   "execution_count": 75,
   "id": "27728e05",
   "metadata": {},
   "outputs": [
    {
     "name": "stdout",
     "output_type": "stream",
     "text": [
      "-\n",
      "....\n",
      ".\n",
      ".--\n",
      "..\n",
      "--..\n",
      ".-\n",
      ".-.\n",
      "-..\n",
      "--.-\n",
      "..-\n",
      "..\n",
      "-.-.\n",
      "-.-\n",
      ".-..\n",
      "-.--\n",
      ".---\n",
      "..\n",
      "-.\n",
      "-..-\n",
      ".\n",
      "-..\n",
      "-\n",
      "….\n",
      "THEWIZARDQUICKLYJINXEDT\n"
     ]
    },
    {
     "data": {
      "text/plain": [
       "'Invalid Morse Code Or Spacing'"
      ]
     },
     "execution_count": 75,
     "metadata": {},
     "output_type": "execute_result"
    }
   ],
   "source": [
    "morseToEnglish(morse_text)"
   ]
  },
  {
   "cell_type": "code",
   "execution_count": 67,
   "id": "c29ab0e7",
   "metadata": {},
   "outputs": [
    {
     "name": "stdout",
     "output_type": "stream",
     "text": [
      "-\n",
      "-….\n",
      "-….\n"
     ]
    },
    {
     "data": {
      "text/plain": [
       "'Invalid Morse Code Or Spacing'"
      ]
     },
     "execution_count": 67,
     "metadata": {},
     "output_type": "execute_result"
    }
   ],
   "source": []
  },
  {
   "cell_type": "code",
   "execution_count": 61,
   "id": "3eeb36c8",
   "metadata": {},
   "outputs": [
    {
     "data": {
      "text/plain": [
       "dict_keys(['.-', '-...', '-.-.', '-..', '.', '..-.', '--.', '....', '..', '.---', '-.-', '.-..', '--', '-.', '---', '.--.', '--.-', '.-.', '...', '-', '..-', '...-', '.--', '-..-', '-.--', '--..', '.----', '..---', '...--', '....-', '.....', '-....', '--...', '---..', '----.', '-----', '--..--', '.-.-.-', '..--..', '-..-.', '-....-', '-.--.', '-.--.-'])"
      ]
     },
     "execution_count": 61,
     "metadata": {},
     "output_type": "execute_result"
    }
   ],
   "source": [
    "morse_dict.keys()"
   ]
  },
  {
   "cell_type": "code",
   "execution_count": 76,
   "id": "f242ec67",
   "metadata": {},
   "outputs": [],
   "source": [
    "s= 'A'"
   ]
  },
  {
   "cell_type": "code",
   "execution_count": 77,
   "id": "ad3c3145",
   "metadata": {},
   "outputs": [
    {
     "data": {
      "text/plain": [
       "'a'"
      ]
     },
     "execution_count": 77,
     "metadata": {},
     "output_type": "execute_result"
    }
   ],
   "source": [
    "s.lower()"
   ]
  },
  {
   "cell_type": "code",
   "execution_count": 81,
   "id": "a6052697",
   "metadata": {},
   "outputs": [],
   "source": []
  },
  {
   "cell_type": "code",
   "execution_count": null,
   "id": "f96207ab",
   "metadata": {},
   "outputs": [],
   "source": []
  }
 ],
 "metadata": {
  "kernelspec": {
   "display_name": "Python 3 (ipykernel)",
   "language": "python",
   "name": "python3"
  },
  "language_info": {
   "codemirror_mode": {
    "name": "ipython",
    "version": 3
   },
   "file_extension": ".py",
   "mimetype": "text/x-python",
   "name": "python",
   "nbconvert_exporter": "python",
   "pygments_lexer": "ipython3",
   "version": "3.9.7"
  }
 },
 "nbformat": 4,
 "nbformat_minor": 5
}
