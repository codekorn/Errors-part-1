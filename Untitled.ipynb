{
 "cells": [
  {
   "cell_type": "code",
   "execution_count": 51,
   "id": "b7c243a6",
   "metadata": {},
   "outputs": [],
   "source": [
    "mt_c = {'a': 3, 'k': 0}"
   ]
  },
  {
   "cell_type": "code",
   "execution_count": 53,
   "id": "5dbc036e",
   "metadata": {},
   "outputs": [
    {
     "data": {
      "text/plain": [
       "{3: 'a', 0: 'k'}"
      ]
     },
     "execution_count": 53,
     "metadata": {},
     "output_type": "execute_result"
    }
   ],
   "source": [
    "{v:k for k,v in mt_c.items()}"
   ]
  },
  {
   "cell_type": "code",
   "execution_count": 55,
   "id": "c488f28f",
   "metadata": {},
   "outputs": [],
   "source": [
    "engilsh_dict = { 'A':'.-', 'B':'-...',\n",
    "                'C':'-.-.', 'D':'-..', 'E':'.',\n",
    "                'F':'..-.', 'G':'--.', 'H':'....',\n",
    "                'I':'..', 'J':'.---', 'K':'-.-',\n",
    "                'L':'.-..', 'M':'--', 'N':'-.',\n",
    "                'O':'---', 'P':'.--.', 'Q':'--.-',\n",
    "                'R':'.-.', 'S':'...', 'T':'-',\n",
    "                'U':'..-', 'V':'...-', 'W':'.--',\n",
    "                'X':'-..-', 'Y':'-.--', 'Z':'--..',\n",
    "                '1':'.----', '2':'..---', '3':'...--',\n",
    "                '4':'....-', '5':'.....', '6':'-....',\n",
    "                '7':'--...', '8':'---..', '9':'----.',\n",
    "                '0':'-----', ', ':'--..--', '.':'.-.-.-',\n",
    "                '?':'..--..', '/':'-..-.', '-':'-....-',\n",
    "                '(':'-.--.', ')':'-.--.-'}\n",
    "morse_dict = {v:k for k,v in engilsh_dict.items()}\n",
    "def run(morseToEnglish, textToTranslate):\n",
    "    #\n",
    "    # Write your code below; return type and arguments should be according to the problem\\'s requirements\n",
    "    #\n",
    "\n",
    "    return translatedText"
   ]
  },
  {
   "cell_type": "code",
   "execution_count": 56,
   "id": "e8cc0eec",
   "metadata": {},
   "outputs": [],
   "source": [
    "def morseToEnglish(morse):\n",
    "    translatedText = ''\n",
    "    word = ''\n",
    "    spaces = 0\n",
    "    for i in range(len(morse)):\n",
    "        if morse[i] != ' ':\n",
    "            word += morse[i]\n",
    "        else:\n",
    "            spaces += 1\n",
    "            next_char = morse[i+1]\n",
    "            if next_char != ' ':\n",
    "                if word not in morse_dict.keys():\n",
    "                    return 'Invalid Morse Code Or Spacing'\n",
    "                translatedText += morse_dict[word]\n",
    "                if spaces == 3:\n",
    "                    translatedText += ' '\n",
    "                elif spaces % 6 == 0:\n",
    "                    translatedText += ' ' * (spaces // 6) * 2\n",
    "                elif spaces != 1:\n",
    "                    return 'Invalid Morse Code Or Spacing'\n",
    "    return translatedText \n",
    "                "
   ]
  },
  {
   "cell_type": "code",
   "execution_count": null,
   "id": "73b92a74",
   "metadata": {},
   "outputs": [],
   "source": []
  },
  {
   "cell_type": "code",
   "execution_count": null,
   "id": "e8c04ff1",
   "metadata": {},
   "outputs": [],
   "source": [
    "def englishToMorse(textToTranslate):\n",
    "    pass"
   ]
  },
  {
   "cell_type": "code",
   "execution_count": 54,
   "id": "b74c6b2b",
   "metadata": {},
   "outputs": [
    {
     "data": {
      "text/plain": [
       "0.5"
      ]
     },
     "execution_count": 54,
     "metadata": {},
     "output_type": "execute_result"
    }
   ],
   "source": []
  },
  {
   "cell_type": "code",
   "execution_count": null,
   "id": "4671e7b6",
   "metadata": {},
   "outputs": [],
   "source": []
  }
 ],
 "metadata": {
  "kernelspec": {
   "display_name": "Python 3 (ipykernel)",
   "language": "python",
   "name": "python3"
  },
  "language_info": {
   "codemirror_mode": {
    "name": "ipython",
    "version": 3
   },
   "file_extension": ".py",
   "mimetype": "text/x-python",
   "name": "python",
   "nbconvert_exporter": "python",
   "pygments_lexer": "ipython3",
   "version": "3.9.7"
  }
 },
 "nbformat": 4,
 "nbformat_minor": 5
}
