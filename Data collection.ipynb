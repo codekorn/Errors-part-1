{
 "cells": [
  {
   "cell_type": "code",
   "execution_count": 286,
   "id": "eb51b632",
   "metadata": {},
   "outputs": [],
   "source": [
    "import requests\n",
    "from bs4 import BeautifulSoup\n",
    "from datetime import datetime, timedelta\n",
    "import pandas as pd"
   ]
  },
  {
   "cell_type": "code",
   "execution_count": 276,
   "id": "ea1d563c",
   "metadata": {},
   "outputs": [],
   "source": [
    "def get_games(date):\n",
    "    url = 'https://www.mlb.com/scores/' + date\n",
    "    r = requests.get(url)\n",
    "    soup = BeautifulSoup(r.text, 'html.parser')\n",
    "    # get every game card on page\n",
    "    games = soup.find_all('div',\n",
    "                          class_ =\"ScoresGamestyle__PaddingWrapper-sc-7t80if-5 btOCDf\")\n",
    "    status = soup.find_all('span', \n",
    "            class_=\"StatusLayerstyle__GameStateWrapper-sc-1s2c2o8-3 feaLYF\")\n",
    "    return games, status"
   ]
  },
  {
   "cell_type": "code",
   "execution_count": 281,
   "id": "18ba2974",
   "metadata": {},
   "outputs": [],
   "source": [
    "def get_game_data(date):\n",
    "    \n",
    "    data = {'date':[], 'away_team': [], 'away_runs': [], 'away_hits': [],\n",
    "            'away_errors': [], 'home_team': [], 'home_runs': [],\n",
    "            'home_hits': [],'home_errors': []}\n",
    "    games,  all_status = get_games(date)\n",
    "    \n",
    "    for i in range(len(games)):\n",
    "        status = all_status[i].text\n",
    "        if status[:5] != 'Final':\n",
    "            continue\n",
    "        teams  = games[i].find_all('div',\n",
    "                           class_=\"TeamWrappersstyle__DesktopTeamWrapper-sc-uqs6qh-0 fdaoCu\")\n",
    "        data['date'].append(date)\n",
    "        data['away_team'].append(teams[0].text)\n",
    "        data['home_team'].append(teams[1].text)\n",
    "        gdata = games[i].find('div',\n",
    "                       class_=\"tablestyle__TableContainer-sc-wsl6eq-2 gNUrMZ\").findChildren()\n",
    "        away_runs,away_hits,away_errors = gdata[12].text, gdata[14].text,gdata[16].text\n",
    "        home_runs,home_hits,home_errors = gdata[19].text, gdata[21].text,gdata[23].text\n",
    "        data['away_runs'].append(away_runs)\n",
    "        data['away_hits'].append(away_hits)\n",
    "        data['away_errors'].append(away_errors)\n",
    "        data['home_runs'].append(home_runs)\n",
    "        data['home_hits'].append(home_hits)\n",
    "        data['home_errors'].append(home_errors)\n",
    "    return data"
   ]
  },
  {
   "cell_type": "code",
   "execution_count": 235,
   "id": "eb15c9b6",
   "metadata": {},
   "outputs": [],
   "source": [
    "def combine_dicts(dict1, dict2):\n",
    "    # only works for dicts with same keys\n",
    "    dict_return = dict1.copy()\n",
    "    for k in dict1.keys():\n",
    "        dict_return[k] = dict1[k] + dict2[k]\n",
    "    return dict_return"
   ]
  },
  {
   "cell_type": "code",
   "execution_count": 279,
   "id": "fbd007ae",
   "metadata": {},
   "outputs": [],
   "source": [
    "def create_df_for_year(start_date, end_date):\n",
    "    date = start_date\n",
    "    previous_dict = get_game_data(date)\n",
    "    while date != end_date:\n",
    "        date = list(map(int, date.split('-')))\n",
    "        date = (datetime(*date) + timedelta(days=1)).strftime('%Y-%m-%d')\n",
    "        game_dict = get_game_data(date)\n",
    "        previous_dict = combine_dicts(previous_dict, game_dict)\n",
    "    return pd.DataFrame(previous_dict)            "
   ]
  },
  {
   "cell_type": "code",
   "execution_count": 285,
   "id": "1e69633a",
   "metadata": {},
   "outputs": [],
   "source": [
    "df_2019 = create_df_for_year('2019-03-20', '2019-09-29')"
   ]
  },
  {
   "cell_type": "code",
   "execution_count": 294,
   "id": "f13df070",
   "metadata": {},
   "outputs": [],
   "source": [
    "df_2019.to_csv('2019_scores.csv', index=False)"
   ]
  },
  {
   "cell_type": "code",
   "execution_count": null,
   "id": "a67d738a",
   "metadata": {},
   "outputs": [],
   "source": []
  }
 ],
 "metadata": {
  "kernelspec": {
   "display_name": "Python 3 (ipykernel)",
   "language": "python",
   "name": "python3"
  },
  "language_info": {
   "codemirror_mode": {
    "name": "ipython",
    "version": 3
   },
   "file_extension": ".py",
   "mimetype": "text/x-python",
   "name": "python",
   "nbconvert_exporter": "python",
   "pygments_lexer": "ipython3",
   "version": "3.9.7"
  }
 },
 "nbformat": 4,
 "nbformat_minor": 5
}
