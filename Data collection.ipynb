{
 "cells": [
  {
   "cell_type": "code",
   "execution_count": 80,
   "id": "28870b1f",
   "metadata": {},
   "outputs": [],
   "source": [
    "import requests\n",
    "from bs4 import BeautifulSoup\n",
    "from datetime import datetime, timedelta\n",
    "import pandas as pd\n",
    "from operator import itemgetter "
   ]
  },
  {
   "cell_type": "code",
   "execution_count": null,
   "id": "85e5de27",
   "metadata": {},
   "outputs": [],
   "source": [
    "url = 'https://www.mlb.com/scores/2022-05-03'\n",
    "r = requests.get(url)\n",
    "soup = BeautifulSoup(r.text, 'html.parser')\n",
    "games = soup.find_all('div', class_ =\"ScoresGamestyle__PaddingWrapper-sc-7t80if-5 btOCDf\")"
   ]
  },
  {
   "cell_type": "code",
   "execution_count": 57,
   "id": "a92dfb09",
   "metadata": {},
   "outputs": [],
   "source": [
    "teams  = games[2].find_all('div',\n",
    "                   class_=\"TeamWrappersstyle__DesktopTeamWrapper-sc-uqs6qh-0 fdaoCu\")\n",
    "away_team = teams[0].text\n",
    "home_team = teams[1].text"
   ]
  },
  {
   "cell_type": "code",
   "execution_count": 59,
   "id": "0b526bb3",
   "metadata": {},
   "outputs": [
    {
     "data": {
      "text/plain": [
       "'Marlins'"
      ]
     },
     "execution_count": 59,
     "metadata": {},
     "output_type": "execute_result"
    }
   ],
   "source": [
    "home_team"
   ]
  },
  {
   "cell_type": "markdown",
   "id": "70a5bdf8",
   "metadata": {},
   "source": [
    "status = soup.find_all(\n",
    "                'span', class_=\"StatusLayerstyle__GameStateWrapper-sc-1s2c2o8-3 feaLYF\")"
   ]
  },
  {
   "cell_type": "code",
   "execution_count": 66,
   "id": "28aede72",
   "metadata": {},
   "outputs": [
    {
     "name": "stdout",
     "output_type": "stream",
     "text": [
      "Final\n",
      "Final\n",
      "Final\n",
      "Final\n",
      "Final\n",
      "Final\n",
      "Final\n",
      "Final\n",
      "Final\n",
      "Final\n",
      "Final\n",
      "Final\n",
      "Final/10\n",
      "Final\n",
      "Postponed\n",
      "Postponed\n"
     ]
    }
   ],
   "source": [
    "for i in range(len(status)):\n",
    "    print(status[i].text)"
   ]
  },
  {
   "cell_type": "code",
   "execution_count": null,
   "id": "a2c30375",
   "metadata": {},
   "outputs": [],
   "source": [
    "<div class=\"tablestyle__TableContainer-sc-wsl6eq-2 gNUrMZ\"><div class=\"tablestyle__TableScroller-sc-wsl6eq-1 LMMJf\"><table class=\"tablestyle__StyledTable-sc-wsl6eq-0 bqIWWu\"><thead><tr data-selected=\"false\"><th scope=\"col\" headers=\"tb-2-header col-0\" data-col=\"0\" class=\"table-cellstyle__StyledTableHead-sc-xpntj7-3 deQnKM\"><div class=\"lineScorestyle__StyledHeadCell-sc-1d7bghs-0 cFqMvg\">R</div></th><th scope=\"col\" headers=\"tb-2-header col-1\" data-col=\"1\" class=\"table-cellstyle__StyledTableHead-sc-xpntj7-3 deQnKM\"><div class=\"lineScorestyle__StyledHeadCell-sc-1d7bghs-0 cFqMvg\">H</div></th><th scope=\"col\" headers=\"tb-2-header col-2\" data-col=\"2\" class=\"table-cellstyle__StyledTableHead-sc-xpntj7-3 deQnKM\"><div class=\"lineScorestyle__StyledHeadCell-sc-1d7bghs-0 cFqMvg\">E</div></th></tr></thead><tbody><tr data-selected=\"false\"><td scope=\"row\" id=\"tb-2-body row-0 col-0\" data-col=\"0\" data-row=\"0\" class=\"table-cellstyle__StyledTableCell-sc-xpntj7-2 ljCIPI\"><div class=\"lineScorestyle__StyledInningCell-sc-1d7bghs-1 ddFUsj\">4</div></td><td scope=\"row\" id=\"tb-2-body row-0 col-1\" data-col=\"1\" data-row=\"0\" class=\"table-cellstyle__StyledTableCell-sc-xpntj7-2 ljCIPI\"><div class=\"lineScorestyle__StyledInningCell-sc-1d7bghs-1 bybxiY\">5</div></td><td scope=\"row\" id=\"tb-2-body row-0 col-2\" data-col=\"2\" data-row=\"0\" class=\"table-cellstyle__StyledTableCell-sc-xpntj7-2 ljCIPI\"><div class=\"lineScorestyle__StyledInningCell-sc-1d7bghs-1 bybxiY\">2</div></td></tr><tr data-selected=\"false\"><td scope=\"row\" id=\"tb-2-body row-1 col-0\" data-col=\"0\" data-row=\"1\" class=\"table-cellstyle__StyledTableCell-sc-xpntj7-2 ljCIPI\"><div class=\"lineScorestyle__StyledInningCell-sc-1d7bghs-1 jPCzPZ\">5</div></td><td scope=\"row\" id=\"tb-2-body row-1 col-1\" data-col=\"1\" data-row=\"1\" class=\"table-cellstyle__StyledTableCell-sc-xpntj7-2 ljCIPI\"><div class=\"lineScorestyle__StyledInningCell-sc-1d7bghs-1 ggbVFi\">7</div></td><td scope=\"row\" id=\"tb-2-body row-1 col-2\" data-col=\"2\" data-row=\"1\" class=\"table-cellstyle__StyledTableCell-sc-xpntj7-2 ljCIPI\"><div class=\"lineScorestyle__StyledInningCell-sc-1d7bghs-1 ggbVFi\">1</div></td></tr></tbody></table></div></div>"
   ]
  },
  {
   "cell_type": "code",
   "execution_count": 60,
   "id": "7bc9c754",
   "metadata": {},
   "outputs": [],
   "source": [
    "data = games[2].find('div',\n",
    "                   class_=\"tablestyle__TableContainer-sc-wsl6eq-2 gNUrMZ\").findChildren()\n",
    "away_runs = data[12].text\n",
    "away_hits = data[14].text\n",
    "away_errors = data[16].text\n",
    "home_runs = data[19].text\n",
    "home_hits = data[21].text\n",
    "home_errors = data[23].text"
   ]
  },
  {
   "cell_type": "code",
   "execution_count": null,
   "id": "da0f152c",
   "metadata": {},
   "outputs": [],
   "source": [
    "<span data-mlb-test=\"gameStartTimesStateLabel\" class=\"StatusLayerstyle__GameStateWrapper-sc-1s2c2o8-3 feaLYF\">Final</span>"
   ]
  },
  {
   "cell_type": "code",
   "execution_count": 69,
   "id": "f9b43254",
   "metadata": {},
   "outputs": [],
   "source": [
    "data = {'date':[], 'away_team': [], 'away_runs': [],'away_team': [],'away_errors': [],\n",
    "        'home_team': [], 'home_runs': [],'home_team': [],'home_errors': []}"
   ]
  },
  {
   "cell_type": "code",
   "execution_count": 156,
   "id": "d896ce54",
   "metadata": {},
   "outputs": [],
   "source": [
    "url = 'https://www.mlb.com/scores/2022-05-03'\n",
    "r = requests.get(url)\n",
    "soup = BeautifulSoup(r.text, 'html.parser')\n",
    "games = soup.find_all('div', class_ =\"ScoresGamestyle__PaddingWrapper-sc-7t80if-5 btOCDf\")"
   ]
  },
  {
   "cell_type": "code",
   "execution_count": 161,
   "id": "16b7c52c",
   "metadata": {},
   "outputs": [
    {
     "ename": "AttributeError",
     "evalue": "'list' object has no attribute 'text'",
     "output_type": "error",
     "traceback": [
      "\u001b[0;31m---------------------------------------------------------------------------\u001b[0m",
      "\u001b[0;31mAttributeError\u001b[0m                            Traceback (most recent call last)",
      "\u001b[0;32m/var/folders/6n/z6rxdnf97bn07rs5km3j2rjm0000gn/T/ipykernel_74560/1865884736.py\u001b[0m in \u001b[0;36m<module>\u001b[0;34m\u001b[0m\n\u001b[1;32m      1\u001b[0m data = games[2].find('div',\n\u001b[1;32m      2\u001b[0m                    class_=\"tablestyle__TableContainer-sc-wsl6eq-2 gNUrMZ\").findChildren()\n\u001b[0;32m----> 3\u001b[0;31m \u001b[0maway_runs\u001b[0m\u001b[0;34m,\u001b[0m \u001b[0maway_hits\u001b[0m\u001b[0;34m,\u001b[0m \u001b[0maway_errors\u001b[0m \u001b[0;34m=\u001b[0m \u001b[0mitemgetter\u001b[0m\u001b[0;34m(\u001b[0m\u001b[0;34m*\u001b[0m\u001b[0;34m[\u001b[0m\u001b[0;36m12\u001b[0m\u001b[0;34m,\u001b[0m\u001b[0;36m14\u001b[0m\u001b[0;34m,\u001b[0m\u001b[0;36m16\u001b[0m\u001b[0;34m]\u001b[0m\u001b[0;34m.\u001b[0m\u001b[0mtext\u001b[0m\u001b[0;34m)\u001b[0m\u001b[0;34m(\u001b[0m\u001b[0mdata\u001b[0m\u001b[0;34m)\u001b[0m\u001b[0;34m\u001b[0m\u001b[0;34m\u001b[0m\u001b[0m\n\u001b[0m\u001b[1;32m      4\u001b[0m \u001b[0mprint\u001b[0m\u001b[0;34m(\u001b[0m\u001b[0maway_runs\u001b[0m\u001b[0;34m,\u001b[0m \u001b[0maway_hits\u001b[0m\u001b[0;34m,\u001b[0m \u001b[0maway_errors\u001b[0m\u001b[0;34m)\u001b[0m\u001b[0;34m\u001b[0m\u001b[0;34m\u001b[0m\u001b[0m\n",
      "\u001b[0;31mAttributeError\u001b[0m: 'list' object has no attribute 'text'"
     ]
    }
   ],
   "source": [
    "data = games[2].find('div',\n",
    "                   class_=\"tablestyle__TableContainer-sc-wsl6eq-2 gNUrMZ\").findChildren()\n",
    "away_runs, away_hits, away_errors = itemgetter(*[12,14,16].text)(data)\n",
    "print(away_runs, away_hits, away_errors)"
   ]
  },
  {
   "cell_type": "code",
   "execution_count": 163,
   "id": "881234ad",
   "metadata": {},
   "outputs": [],
   "source": [
    "def get_games(date):\n",
    "    url = 'https://www.mlb.com/scores/' + date\n",
    "    r = requests.get(url)\n",
    "    soup = BeautifulSoup(r.text, 'html.parser')\n",
    "    # get every game card on page\n",
    "    games = soup.find_all('div', class_ =\"ScoresGamestyle__PaddingWrapper-sc-7t80if-5 btOCDf\")\n",
    "    return games"
   ]
  },
  {
   "cell_type": "code",
   "execution_count": 272,
   "id": "d141ab06",
   "metadata": {},
   "outputs": [],
   "source": [
    "def get_game_data(date):\n",
    "    \n",
    "    data = {'date':[], 'away_team': [], 'away_runs': [], 'away_hits': [],\n",
    "            'away_errors': [], 'home_team': [], 'home_runs': [],\n",
    "            'home_hits': [],'home_errors': []}\n",
    "    games = get_games(date)\n",
    "    all_status = soup.find_all(\n",
    "                    'span', \n",
    "            class_=\"StatusLayerstyle__GameStateWrapper-sc-1s2c2o8-3 feaLYF\")\n",
    "    for i in range(len(games)):\n",
    "        status = all_status[i].text\n",
    "        print(status)\n",
    "        if status[:5] != 'Final':\n",
    "            continue\n",
    "        teams  = games[i].find_all('div',\n",
    "                           class_=\"TeamWrappersstyle__DesktopTeamWrapper-sc-uqs6qh-0 fdaoCu\")\n",
    "        data['date'].append(date)\n",
    "        data['away_team'].append(teams[0].text)\n",
    "        data['home_team'].append(teams[1].text)\n",
    "        gdata = games[i].find('div',\n",
    "                       class_=\"tablestyle__TableContainer-sc-wsl6eq-2 gNUrMZ\").findChildren()\n",
    "        away_runs,away_hits,away_errors = gdata[12].text, gdata[14].text,gdata[16].text\n",
    "        home_runs,home_hits,home_errors = gdata[19].text, gdata[21].text,gdata[23].text\n",
    "        data['away_runs'].append(away_runs)\n",
    "        data['away_hits'].append(away_hits)\n",
    "        data['away_errors'].append(away_errors)\n",
    "        data['home_runs'].append(home_runs)\n",
    "        data['home_hits'].append(home_hits)\n",
    "        data['home_errors'].append(home_errors)\n",
    "        print(teams[0].text+': ' + away_runs)\n",
    "        print(teams[1].text+': ' + home_runs)\n",
    "    return data"
   ]
  },
  {
   "cell_type": "code",
   "execution_count": 235,
   "id": "c89e28fc",
   "metadata": {},
   "outputs": [],
   "source": [
    "def combine_dicts(dict1, dict2):\n",
    "    # only works for dicts with same keys\n",
    "    dict_return = dict1.copy()\n",
    "    for k in dict1.keys():\n",
    "        dict_return[k] = dict1[k] + dict2[k]\n",
    "    return dict_return"
   ]
  },
  {
   "cell_type": "code",
   "execution_count": 262,
   "id": "7e7ebbd9",
   "metadata": {},
   "outputs": [],
   "source": [
    "def create_df_for_year(start_date, end_date):\n",
    "    date = start_date\n",
    "    previous_dict = get_game_data(date)\n",
    "    while date != end_date:\n",
    "        date = list(map(int, date.split('-')))\n",
    "        date = (datetime(*date) + timedelta(days=1)).strftime('%Y-%m-%d')\n",
    "        game_dict = get_game_data(date)\n",
    "        previous_dict = combine_dicts(previous_dict, game_dict)\n",
    "    return previous_dict            "
   ]
  },
  {
   "cell_type": "code",
   "execution_count": 268,
   "id": "017aeaec",
   "metadata": {},
   "outputs": [
    {
     "name": "stdout",
     "output_type": "stream",
     "text": [
      "[<div class=\"TeamWrappersstyle__DesktopTeamWrapper-sc-uqs6qh-0 fdaoCu\">Brewers</div>, <div class=\"TeamWrappersstyle__DesktopTeamWrapper-sc-uqs6qh-0 fdaoCu\">Cubs</div>, <div class=\"TeamWrappersstyle__DesktopTeamWrapper-sc-uqs6qh-0 fdaoCu\">Brewers</div>, <div class=\"TeamWrappersstyle__DesktopTeamWrapper-sc-uqs6qh-0 fdaoCu\">Cubs</div>]\n",
      "[<div class=\"TeamWrappersstyle__DesktopTeamWrapper-sc-uqs6qh-0 fdaoCu\">Guardians</div>, <div class=\"TeamWrappersstyle__DesktopTeamWrapper-sc-uqs6qh-0 fdaoCu\">Royals</div>, <div class=\"TeamWrappersstyle__DesktopTeamWrapper-sc-uqs6qh-0 fdaoCu\">Guardians</div>, <div class=\"TeamWrappersstyle__DesktopTeamWrapper-sc-uqs6qh-0 fdaoCu\">Royals</div>]\n",
      "[<div class=\"TeamWrappersstyle__DesktopTeamWrapper-sc-uqs6qh-0 fdaoCu\">Pirates</div>, <div class=\"TeamWrappersstyle__DesktopTeamWrapper-sc-uqs6qh-0 fdaoCu\">Cardinals</div>, <div class=\"TeamWrappersstyle__DesktopTeamWrapper-sc-uqs6qh-0 fdaoCu\">Pirates</div>, <div class=\"TeamWrappersstyle__DesktopTeamWrapper-sc-uqs6qh-0 fdaoCu\">Cardinals</div>]\n",
      "[<div class=\"TeamWrappersstyle__DesktopTeamWrapper-sc-uqs6qh-0 fdaoCu\">Mets</div>, <div class=\"TeamWrappersstyle__DesktopTeamWrapper-sc-uqs6qh-0 fdaoCu\">Nationals</div>, <div class=\"TeamWrappersstyle__DesktopTeamWrapper-sc-uqs6qh-0 fdaoCu\">Mets</div>, <div class=\"TeamWrappersstyle__DesktopTeamWrapper-sc-uqs6qh-0 fdaoCu\">Nationals</div>]\n",
      "[<div class=\"TeamWrappersstyle__DesktopTeamWrapper-sc-uqs6qh-0 fdaoCu\">Reds</div>, <div class=\"TeamWrappersstyle__DesktopTeamWrapper-sc-uqs6qh-0 fdaoCu\">Braves</div>, <div class=\"TeamWrappersstyle__DesktopTeamWrapper-sc-uqs6qh-0 fdaoCu\">Reds</div>, <div class=\"TeamWrappersstyle__DesktopTeamWrapper-sc-uqs6qh-0 fdaoCu\">Braves</div>]\n",
      "[<div class=\"TeamWrappersstyle__DesktopTeamWrapper-sc-uqs6qh-0 fdaoCu\">Astros</div>, <div class=\"TeamWrappersstyle__DesktopTeamWrapper-sc-uqs6qh-0 fdaoCu\">Angels</div>, <div class=\"TeamWrappersstyle__DesktopTeamWrapper-sc-uqs6qh-0 fdaoCu\">Astros</div>, <div class=\"TeamWrappersstyle__DesktopTeamWrapper-sc-uqs6qh-0 fdaoCu\">Angels</div>]\n",
      "[<div class=\"TeamWrappersstyle__DesktopTeamWrapper-sc-uqs6qh-0 fdaoCu\">Padres</div>, <div class=\"TeamWrappersstyle__DesktopTeamWrapper-sc-uqs6qh-0 fdaoCu\">D-backs</div>, <div class=\"TeamWrappersstyle__DesktopTeamWrapper-sc-uqs6qh-0 fdaoCu\">Padres</div>, <div class=\"TeamWrappersstyle__DesktopTeamWrapper-sc-uqs6qh-0 fdaoCu\">D-backs</div>]\n",
      "[<div class=\"TeamWrappersstyle__DesktopTeamWrapper-sc-uqs6qh-0 fdaoCu\">Red Sox</div>, <div class=\"TeamWrappersstyle__DesktopTeamWrapper-sc-uqs6qh-0 fdaoCu\">Yankees</div>, <div class=\"TeamWrappersstyle__DesktopTeamWrapper-sc-uqs6qh-0 fdaoCu\">Red Sox</div>, <div class=\"TeamWrappersstyle__DesktopTeamWrapper-sc-uqs6qh-0 fdaoCu\">Yankees</div>]\n"
     ]
    },
    {
     "ename": "AttributeError",
     "evalue": "'NoneType' object has no attribute 'findChildren'",
     "output_type": "error",
     "traceback": [
      "\u001b[0;31m---------------------------------------------------------------------------\u001b[0m",
      "\u001b[0;31mAttributeError\u001b[0m                            Traceback (most recent call last)",
      "\u001b[0;32m/var/folders/6n/z6rxdnf97bn07rs5km3j2rjm0000gn/T/ipykernel_74560/752898969.py\u001b[0m in \u001b[0;36m<module>\u001b[0;34m\u001b[0m\n\u001b[0;32m----> 1\u001b[0;31m \u001b[0mcreate_df_for_year\u001b[0m\u001b[0;34m(\u001b[0m\u001b[0;34m'2022-04-07'\u001b[0m\u001b[0;34m,\u001b[0m \u001b[0;34m'2022-05-04'\u001b[0m\u001b[0;34m)\u001b[0m\u001b[0;34m\u001b[0m\u001b[0;34m\u001b[0m\u001b[0m\n\u001b[0m",
      "\u001b[0;32m/var/folders/6n/z6rxdnf97bn07rs5km3j2rjm0000gn/T/ipykernel_74560/2585686131.py\u001b[0m in \u001b[0;36mcreate_df_for_year\u001b[0;34m(start_date, end_date)\u001b[0m\n\u001b[1;32m      1\u001b[0m \u001b[0;32mdef\u001b[0m \u001b[0mcreate_df_for_year\u001b[0m\u001b[0;34m(\u001b[0m\u001b[0mstart_date\u001b[0m\u001b[0;34m,\u001b[0m \u001b[0mend_date\u001b[0m\u001b[0;34m)\u001b[0m\u001b[0;34m:\u001b[0m\u001b[0;34m\u001b[0m\u001b[0;34m\u001b[0m\u001b[0m\n\u001b[1;32m      2\u001b[0m     \u001b[0mdate\u001b[0m \u001b[0;34m=\u001b[0m \u001b[0mstart_date\u001b[0m\u001b[0;34m\u001b[0m\u001b[0;34m\u001b[0m\u001b[0m\n\u001b[0;32m----> 3\u001b[0;31m     \u001b[0mprevious_dict\u001b[0m \u001b[0;34m=\u001b[0m \u001b[0mget_game_data\u001b[0m\u001b[0;34m(\u001b[0m\u001b[0mdate\u001b[0m\u001b[0;34m)\u001b[0m\u001b[0;34m\u001b[0m\u001b[0;34m\u001b[0m\u001b[0m\n\u001b[0m\u001b[1;32m      4\u001b[0m     \u001b[0;32mwhile\u001b[0m \u001b[0mdate\u001b[0m \u001b[0;34m!=\u001b[0m \u001b[0mend_date\u001b[0m\u001b[0;34m:\u001b[0m\u001b[0;34m\u001b[0m\u001b[0;34m\u001b[0m\u001b[0m\n\u001b[1;32m      5\u001b[0m         \u001b[0mdate\u001b[0m \u001b[0;34m=\u001b[0m \u001b[0mlist\u001b[0m\u001b[0;34m(\u001b[0m\u001b[0mmap\u001b[0m\u001b[0;34m(\u001b[0m\u001b[0mint\u001b[0m\u001b[0;34m,\u001b[0m \u001b[0mdate\u001b[0m\u001b[0;34m.\u001b[0m\u001b[0msplit\u001b[0m\u001b[0;34m(\u001b[0m\u001b[0;34m'-'\u001b[0m\u001b[0;34m)\u001b[0m\u001b[0;34m)\u001b[0m\u001b[0;34m)\u001b[0m\u001b[0;34m\u001b[0m\u001b[0;34m\u001b[0m\u001b[0m\n",
      "\u001b[0;32m/var/folders/6n/z6rxdnf97bn07rs5km3j2rjm0000gn/T/ipykernel_74560/241319287.py\u001b[0m in \u001b[0;36mget_game_data\u001b[0;34m(date)\u001b[0m\n\u001b[1;32m     18\u001b[0m         \u001b[0mdata\u001b[0m\u001b[0;34m[\u001b[0m\u001b[0;34m'away_team'\u001b[0m\u001b[0;34m]\u001b[0m\u001b[0;34m.\u001b[0m\u001b[0mappend\u001b[0m\u001b[0;34m(\u001b[0m\u001b[0mteams\u001b[0m\u001b[0;34m[\u001b[0m\u001b[0;36m0\u001b[0m\u001b[0;34m]\u001b[0m\u001b[0;34m.\u001b[0m\u001b[0mtext\u001b[0m\u001b[0;34m)\u001b[0m\u001b[0;34m\u001b[0m\u001b[0;34m\u001b[0m\u001b[0m\n\u001b[1;32m     19\u001b[0m         \u001b[0mdata\u001b[0m\u001b[0;34m[\u001b[0m\u001b[0;34m'home_team'\u001b[0m\u001b[0;34m]\u001b[0m\u001b[0;34m.\u001b[0m\u001b[0mappend\u001b[0m\u001b[0;34m(\u001b[0m\u001b[0mteams\u001b[0m\u001b[0;34m[\u001b[0m\u001b[0;36m1\u001b[0m\u001b[0;34m]\u001b[0m\u001b[0;34m.\u001b[0m\u001b[0mtext\u001b[0m\u001b[0;34m)\u001b[0m\u001b[0;34m\u001b[0m\u001b[0;34m\u001b[0m\u001b[0m\n\u001b[0;32m---> 20\u001b[0;31m         gdata = games[i].find('div',\n\u001b[0m\u001b[1;32m     21\u001b[0m                        class_=\"tablestyle__TableContainer-sc-wsl6eq-2 gNUrMZ\").findChildren()\n\u001b[1;32m     22\u001b[0m         \u001b[0maway_runs\u001b[0m\u001b[0;34m,\u001b[0m\u001b[0maway_hits\u001b[0m\u001b[0;34m,\u001b[0m\u001b[0maway_errors\u001b[0m \u001b[0;34m=\u001b[0m \u001b[0mgdata\u001b[0m\u001b[0;34m[\u001b[0m\u001b[0;36m12\u001b[0m\u001b[0;34m]\u001b[0m\u001b[0;34m.\u001b[0m\u001b[0mtext\u001b[0m\u001b[0;34m,\u001b[0m \u001b[0mgdata\u001b[0m\u001b[0;34m[\u001b[0m\u001b[0;36m14\u001b[0m\u001b[0;34m]\u001b[0m\u001b[0;34m.\u001b[0m\u001b[0mtext\u001b[0m\u001b[0;34m,\u001b[0m\u001b[0mgdata\u001b[0m\u001b[0;34m[\u001b[0m\u001b[0;36m16\u001b[0m\u001b[0;34m]\u001b[0m\u001b[0;34m.\u001b[0m\u001b[0mtext\u001b[0m\u001b[0;34m\u001b[0m\u001b[0;34m\u001b[0m\u001b[0m\n",
      "\u001b[0;31mAttributeError\u001b[0m: 'NoneType' object has no attribute 'findChildren'"
     ]
    }
   ],
   "source": [
    "create_df_for_year('2022-04-07', '2022-05-04')"
   ]
  },
  {
   "cell_type": "code",
   "execution_count": 273,
   "id": "d98d824f",
   "metadata": {},
   "outputs": [
    {
     "name": "stdout",
     "output_type": "stream",
     "text": [
      "Final\n",
      "Red Sox: 5\n",
      "Yankees: 6\n",
      "Final\n",
      "White Sox: 4\n",
      "Tigers: 5\n",
      "Final\n",
      "Athletics: 5\n",
      "Phillies: 9\n",
      "Final\n",
      "Orioles: 1\n",
      "Rays: 2\n",
      "Final\n",
      "Dodgers: 5\n",
      "Rockies: 3\n",
      "Final\n",
      "Mariners: 2\n",
      "Twins: 1\n",
      "Final\n",
      "Marlins: 5\n",
      "Giants: 6\n",
      "Final\n",
      "Mets: 7\n",
      "Nationals: 3\n",
      "Final\n",
      "Rangers: 8\n",
      "Blue Jays: 10\n",
      "Final\n",
      "Reds: 6\n",
      "Braves: 7\n",
      "Final\n",
      "Astros: 13\n",
      "Angels: 6\n",
      "Final\n",
      "Padres: 3\n",
      "D-backs: 0\n",
      "Final/10\n"
     ]
    },
    {
     "ename": "AttributeError",
     "evalue": "'NoneType' object has no attribute 'findChildren'",
     "output_type": "error",
     "traceback": [
      "\u001b[0;31m---------------------------------------------------------------------------\u001b[0m",
      "\u001b[0;31mAttributeError\u001b[0m                            Traceback (most recent call last)",
      "\u001b[0;32m/var/folders/6n/z6rxdnf97bn07rs5km3j2rjm0000gn/T/ipykernel_74560/99091200.py\u001b[0m in \u001b[0;36m<module>\u001b[0;34m\u001b[0m\n\u001b[0;32m----> 1\u001b[0;31m \u001b[0mget_game_data\u001b[0m\u001b[0;34m(\u001b[0m\u001b[0;34m'2022-04-08'\u001b[0m\u001b[0;34m)\u001b[0m\u001b[0;34m\u001b[0m\u001b[0;34m\u001b[0m\u001b[0m\n\u001b[0m",
      "\u001b[0;32m/var/folders/6n/z6rxdnf97bn07rs5km3j2rjm0000gn/T/ipykernel_74560/3574022187.py\u001b[0m in \u001b[0;36mget_game_data\u001b[0;34m(date)\u001b[0m\n\u001b[1;32m     18\u001b[0m         \u001b[0mdata\u001b[0m\u001b[0;34m[\u001b[0m\u001b[0;34m'away_team'\u001b[0m\u001b[0;34m]\u001b[0m\u001b[0;34m.\u001b[0m\u001b[0mappend\u001b[0m\u001b[0;34m(\u001b[0m\u001b[0mteams\u001b[0m\u001b[0;34m[\u001b[0m\u001b[0;36m0\u001b[0m\u001b[0;34m]\u001b[0m\u001b[0;34m.\u001b[0m\u001b[0mtext\u001b[0m\u001b[0;34m)\u001b[0m\u001b[0;34m\u001b[0m\u001b[0;34m\u001b[0m\u001b[0m\n\u001b[1;32m     19\u001b[0m         \u001b[0mdata\u001b[0m\u001b[0;34m[\u001b[0m\u001b[0;34m'home_team'\u001b[0m\u001b[0;34m]\u001b[0m\u001b[0;34m.\u001b[0m\u001b[0mappend\u001b[0m\u001b[0;34m(\u001b[0m\u001b[0mteams\u001b[0m\u001b[0;34m[\u001b[0m\u001b[0;36m1\u001b[0m\u001b[0;34m]\u001b[0m\u001b[0;34m.\u001b[0m\u001b[0mtext\u001b[0m\u001b[0;34m)\u001b[0m\u001b[0;34m\u001b[0m\u001b[0;34m\u001b[0m\u001b[0m\n\u001b[0;32m---> 20\u001b[0;31m         gdata = games[i].find('div',\n\u001b[0m\u001b[1;32m     21\u001b[0m                        class_=\"tablestyle__TableContainer-sc-wsl6eq-2 gNUrMZ\").findChildren()\n\u001b[1;32m     22\u001b[0m         \u001b[0maway_runs\u001b[0m\u001b[0;34m,\u001b[0m\u001b[0maway_hits\u001b[0m\u001b[0;34m,\u001b[0m\u001b[0maway_errors\u001b[0m \u001b[0;34m=\u001b[0m \u001b[0mgdata\u001b[0m\u001b[0;34m[\u001b[0m\u001b[0;36m12\u001b[0m\u001b[0;34m]\u001b[0m\u001b[0;34m.\u001b[0m\u001b[0mtext\u001b[0m\u001b[0;34m,\u001b[0m \u001b[0mgdata\u001b[0m\u001b[0;34m[\u001b[0m\u001b[0;36m14\u001b[0m\u001b[0;34m]\u001b[0m\u001b[0;34m.\u001b[0m\u001b[0mtext\u001b[0m\u001b[0;34m,\u001b[0m\u001b[0mgdata\u001b[0m\u001b[0;34m[\u001b[0m\u001b[0;36m16\u001b[0m\u001b[0;34m]\u001b[0m\u001b[0;34m.\u001b[0m\u001b[0mtext\u001b[0m\u001b[0;34m\u001b[0m\u001b[0;34m\u001b[0m\u001b[0m\n",
      "\u001b[0;31mAttributeError\u001b[0m: 'NoneType' object has no attribute 'findChildren'"
     ]
    }
   ],
   "source": [
    "get_game_data('2022-04-08')"
   ]
  },
  {
   "cell_type": "code",
   "execution_count": null,
   "id": "d0d86843",
   "metadata": {},
   "outputs": [],
   "source": []
  }
 ],
 "metadata": {
  "kernelspec": {
   "display_name": "Python 3 (ipykernel)",
   "language": "python",
   "name": "python3"
  },
  "language_info": {
   "codemirror_mode": {
    "name": "ipython",
    "version": 3
   },
   "file_extension": ".py",
   "mimetype": "text/x-python",
   "name": "python",
   "nbconvert_exporter": "python",
   "pygments_lexer": "ipython3",
   "version": "3.9.7"
  }
 },
 "nbformat": 4,
 "nbformat_minor": 5
}
