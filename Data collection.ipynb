{
 "cells": [
  {
   "cell_type": "code",
   "execution_count": 1,
   "id": "147cdc68",
   "metadata": {},
   "outputs": [],
   "source": [
    "import requests\n",
    "from bs4 import BeautifulSoup"
   ]
  },
  {
   "cell_type": "code",
   "execution_count": 24,
   "id": "e5ccf23b",
   "metadata": {},
   "outputs": [],
   "source": [
    "url = 'https://www.mlb.com/scores/2022-05-03'\n",
    "r = requests.get(url)"
   ]
  },
  {
   "cell_type": "code",
   "execution_count": 25,
   "id": "55833eb3",
   "metadata": {},
   "outputs": [],
   "source": [
    "soup = BeautifulSoup(r.text, 'html.parser')"
   ]
  },
  {
   "cell_type": "code",
   "execution_count": 27,
   "id": "cc704f35",
   "metadata": {},
   "outputs": [],
   "source": [
    "games = soup.find_all('div', class_ =\"ScoresGamestyle__PaddingWrapper-sc-7t80if-5 btOCDf\")"
   ]
  },
  {
   "cell_type": "code",
   "execution_count": 36,
   "id": "a69cd0c9",
   "metadata": {},
   "outputs": [],
   "source": [
    "teams  = games[2].find_all('div',\n",
    "                   class_=\"TeamWrappersstyle__DesktopTeamWrapper-sc-uqs6qh-0 fdaoCu\")"
   ]
  },
  {
   "cell_type": "code",
   "execution_count": null,
   "id": "e261123b",
   "metadata": {},
   "outputs": [],
   "source": [
    "<div class=\"tablestyle__TableContainer-sc-wsl6eq-2 gNUrMZ\"><div class=\"tablestyle__TableScroller-sc-wsl6eq-1 LMMJf\"><table class=\"tablestyle__StyledTable-sc-wsl6eq-0 bqIWWu\"><thead><tr data-selected=\"false\"><th scope=\"col\" headers=\"tb-2-header col-0\" data-col=\"0\" class=\"table-cellstyle__StyledTableHead-sc-xpntj7-3 deQnKM\"><div class=\"lineScorestyle__StyledHeadCell-sc-1d7bghs-0 cFqMvg\">R</div></th><th scope=\"col\" headers=\"tb-2-header col-1\" data-col=\"1\" class=\"table-cellstyle__StyledTableHead-sc-xpntj7-3 deQnKM\"><div class=\"lineScorestyle__StyledHeadCell-sc-1d7bghs-0 cFqMvg\">H</div></th><th scope=\"col\" headers=\"tb-2-header col-2\" data-col=\"2\" class=\"table-cellstyle__StyledTableHead-sc-xpntj7-3 deQnKM\"><div class=\"lineScorestyle__StyledHeadCell-sc-1d7bghs-0 cFqMvg\">E</div></th></tr></thead><tbody><tr data-selected=\"false\"><td scope=\"row\" id=\"tb-2-body row-0 col-0\" data-col=\"0\" data-row=\"0\" class=\"table-cellstyle__StyledTableCell-sc-xpntj7-2 ljCIPI\"><div class=\"lineScorestyle__StyledInningCell-sc-1d7bghs-1 ddFUsj\">4</div></td><td scope=\"row\" id=\"tb-2-body row-0 col-1\" data-col=\"1\" data-row=\"0\" class=\"table-cellstyle__StyledTableCell-sc-xpntj7-2 ljCIPI\"><div class=\"lineScorestyle__StyledInningCell-sc-1d7bghs-1 bybxiY\">5</div></td><td scope=\"row\" id=\"tb-2-body row-0 col-2\" data-col=\"2\" data-row=\"0\" class=\"table-cellstyle__StyledTableCell-sc-xpntj7-2 ljCIPI\"><div class=\"lineScorestyle__StyledInningCell-sc-1d7bghs-1 bybxiY\">2</div></td></tr><tr data-selected=\"false\"><td scope=\"row\" id=\"tb-2-body row-1 col-0\" data-col=\"0\" data-row=\"1\" class=\"table-cellstyle__StyledTableCell-sc-xpntj7-2 ljCIPI\"><div class=\"lineScorestyle__StyledInningCell-sc-1d7bghs-1 jPCzPZ\">5</div></td><td scope=\"row\" id=\"tb-2-body row-1 col-1\" data-col=\"1\" data-row=\"1\" class=\"table-cellstyle__StyledTableCell-sc-xpntj7-2 ljCIPI\"><div class=\"lineScorestyle__StyledInningCell-sc-1d7bghs-1 ggbVFi\">7</div></td><td scope=\"row\" id=\"tb-2-body row-1 col-2\" data-col=\"2\" data-row=\"1\" class=\"table-cellstyle__StyledTableCell-sc-xpntj7-2 ljCIPI\"><div class=\"lineScorestyle__StyledInningCell-sc-1d7bghs-1 ggbVFi\">1</div></td></tr></tbody></table></div></div>"
   ]
  },
  {
   "cell_type": "code",
   "execution_count": 53,
   "id": "41e8c345",
   "metadata": {},
   "outputs": [],
   "source": [
    "data = games[2].find('div',\n",
    "                   class_=\"tablestyle__TableContainer-sc-wsl6eq-2 gNUrMZ\").findChildren()\n",
    "away_runs = data[12].text\n",
    "away_hits = data[14].text\n",
    "away_runs = data[16].text\n",
    "home_runs = data[19].text\n",
    "home_hits = data[21].text\n",
    "home_runs = data[23].text"
   ]
  },
  {
   "cell_type": "code",
   "execution_count": null,
   "id": "ad9183db",
   "metadata": {},
   "outputs": [],
   "source": []
  },
  {
   "cell_type": "code",
   "execution_count": null,
   "id": "f8f54635",
   "metadata": {},
   "outputs": [],
   "source": []
  }
 ],
 "metadata": {
  "kernelspec": {
   "display_name": "Python 3 (ipykernel)",
   "language": "python",
   "name": "python3"
  },
  "language_info": {
   "codemirror_mode": {
    "name": "ipython",
    "version": 3
   },
   "file_extension": ".py",
   "mimetype": "text/x-python",
   "name": "python",
   "nbconvert_exporter": "python",
   "pygments_lexer": "ipython3",
   "version": "3.9.7"
  }
 },
 "nbformat": 4,
 "nbformat_minor": 5
}
