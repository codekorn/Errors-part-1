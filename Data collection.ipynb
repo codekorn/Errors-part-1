{
 "cells": [
  {
   "cell_type": "code",
   "execution_count": 80,
   "id": "2661b390",
   "metadata": {},
   "outputs": [],
   "source": [
    "import requests\n",
    "from bs4 import BeautifulSoup\n",
    "from datetime import datetime, timedelta\n",
    "import pandas as pd\n",
    "from operator import itemgetter "
   ]
  },
  {
   "cell_type": "code",
   "execution_count": null,
   "id": "c968e36d",
   "metadata": {},
   "outputs": [],
   "source": [
    "url = 'https://www.mlb.com/scores/2022-05-03'\n",
    "r = requests.get(url)\n",
    "soup = BeautifulSoup(r.text, 'html.parser')\n",
    "games = soup.find_all('div', class_ =\"ScoresGamestyle__PaddingWrapper-sc-7t80if-5 btOCDf\")"
   ]
  },
  {
   "cell_type": "code",
   "execution_count": 57,
   "id": "e4f7e1fa",
   "metadata": {},
   "outputs": [],
   "source": [
    "teams  = games[2].find_all('div',\n",
    "                   class_=\"TeamWrappersstyle__DesktopTeamWrapper-sc-uqs6qh-0 fdaoCu\")\n",
    "away_team = teams[0].text\n",
    "home_team = teams[1].text"
   ]
  },
  {
   "cell_type": "code",
   "execution_count": 59,
   "id": "4c8ad58d",
   "metadata": {},
   "outputs": [
    {
     "data": {
      "text/plain": [
       "'Marlins'"
      ]
     },
     "execution_count": 59,
     "metadata": {},
     "output_type": "execute_result"
    }
   ],
   "source": [
    "home_team"
   ]
  },
  {
   "cell_type": "markdown",
   "id": "ec660345",
   "metadata": {},
   "source": [
    "status = soup.find_all(\n",
    "                'span', class_=\"StatusLayerstyle__GameStateWrapper-sc-1s2c2o8-3 feaLYF\")"
   ]
  },
  {
   "cell_type": "code",
   "execution_count": 66,
   "id": "8cb454e1",
   "metadata": {},
   "outputs": [
    {
     "name": "stdout",
     "output_type": "stream",
     "text": [
      "Final\n",
      "Final\n",
      "Final\n",
      "Final\n",
      "Final\n",
      "Final\n",
      "Final\n",
      "Final\n",
      "Final\n",
      "Final\n",
      "Final\n",
      "Final\n",
      "Final/10\n",
      "Final\n",
      "Postponed\n",
      "Postponed\n"
     ]
    }
   ],
   "source": [
    "for i in range(len(status)):\n",
    "    print(status[i].text)"
   ]
  },
  {
   "cell_type": "code",
   "execution_count": null,
   "id": "13fb6070",
   "metadata": {},
   "outputs": [],
   "source": [
    "<div class=\"tablestyle__TableContainer-sc-wsl6eq-2 gNUrMZ\"><div class=\"tablestyle__TableScroller-sc-wsl6eq-1 LMMJf\"><table class=\"tablestyle__StyledTable-sc-wsl6eq-0 bqIWWu\"><thead><tr data-selected=\"false\"><th scope=\"col\" headers=\"tb-2-header col-0\" data-col=\"0\" class=\"table-cellstyle__StyledTableHead-sc-xpntj7-3 deQnKM\"><div class=\"lineScorestyle__StyledHeadCell-sc-1d7bghs-0 cFqMvg\">R</div></th><th scope=\"col\" headers=\"tb-2-header col-1\" data-col=\"1\" class=\"table-cellstyle__StyledTableHead-sc-xpntj7-3 deQnKM\"><div class=\"lineScorestyle__StyledHeadCell-sc-1d7bghs-0 cFqMvg\">H</div></th><th scope=\"col\" headers=\"tb-2-header col-2\" data-col=\"2\" class=\"table-cellstyle__StyledTableHead-sc-xpntj7-3 deQnKM\"><div class=\"lineScorestyle__StyledHeadCell-sc-1d7bghs-0 cFqMvg\">E</div></th></tr></thead><tbody><tr data-selected=\"false\"><td scope=\"row\" id=\"tb-2-body row-0 col-0\" data-col=\"0\" data-row=\"0\" class=\"table-cellstyle__StyledTableCell-sc-xpntj7-2 ljCIPI\"><div class=\"lineScorestyle__StyledInningCell-sc-1d7bghs-1 ddFUsj\">4</div></td><td scope=\"row\" id=\"tb-2-body row-0 col-1\" data-col=\"1\" data-row=\"0\" class=\"table-cellstyle__StyledTableCell-sc-xpntj7-2 ljCIPI\"><div class=\"lineScorestyle__StyledInningCell-sc-1d7bghs-1 bybxiY\">5</div></td><td scope=\"row\" id=\"tb-2-body row-0 col-2\" data-col=\"2\" data-row=\"0\" class=\"table-cellstyle__StyledTableCell-sc-xpntj7-2 ljCIPI\"><div class=\"lineScorestyle__StyledInningCell-sc-1d7bghs-1 bybxiY\">2</div></td></tr><tr data-selected=\"false\"><td scope=\"row\" id=\"tb-2-body row-1 col-0\" data-col=\"0\" data-row=\"1\" class=\"table-cellstyle__StyledTableCell-sc-xpntj7-2 ljCIPI\"><div class=\"lineScorestyle__StyledInningCell-sc-1d7bghs-1 jPCzPZ\">5</div></td><td scope=\"row\" id=\"tb-2-body row-1 col-1\" data-col=\"1\" data-row=\"1\" class=\"table-cellstyle__StyledTableCell-sc-xpntj7-2 ljCIPI\"><div class=\"lineScorestyle__StyledInningCell-sc-1d7bghs-1 ggbVFi\">7</div></td><td scope=\"row\" id=\"tb-2-body row-1 col-2\" data-col=\"2\" data-row=\"1\" class=\"table-cellstyle__StyledTableCell-sc-xpntj7-2 ljCIPI\"><div class=\"lineScorestyle__StyledInningCell-sc-1d7bghs-1 ggbVFi\">1</div></td></tr></tbody></table></div></div>"
   ]
  },
  {
   "cell_type": "code",
   "execution_count": 60,
   "id": "986e0a6e",
   "metadata": {},
   "outputs": [],
   "source": [
    "data = games[2].find('div',\n",
    "                   class_=\"tablestyle__TableContainer-sc-wsl6eq-2 gNUrMZ\").findChildren()\n",
    "away_runs = data[12].text\n",
    "away_hits = data[14].text\n",
    "away_errors = data[16].text\n",
    "home_runs = data[19].text\n",
    "home_hits = data[21].text\n",
    "home_errors = data[23].text"
   ]
  },
  {
   "cell_type": "code",
   "execution_count": null,
   "id": "547f4eae",
   "metadata": {},
   "outputs": [],
   "source": [
    "<span data-mlb-test=\"gameStartTimesStateLabel\" class=\"StatusLayerstyle__GameStateWrapper-sc-1s2c2o8-3 feaLYF\">Final</span>"
   ]
  },
  {
   "cell_type": "code",
   "execution_count": 69,
   "id": "e774c223",
   "metadata": {},
   "outputs": [],
   "source": [
    "data = {'date':[], 'away_team': [], 'away_runs': [],'away_team': [],'away_errors': [],\n",
    "        'home_team': [], 'home_runs': [],'home_team': [],'home_errors': []}"
   ]
  },
  {
   "cell_type": "code",
   "execution_count": 78,
   "id": "7b11bc13",
   "metadata": {},
   "outputs": [],
   "source": [
    "url = 'https://www.mlb.com/scores/2022-05-03'\n",
    "r = requests.get(url)\n",
    "soup = BeautifulSoup(r.text, 'html.parser')\n",
    "games = soup.find_all('div', class_ =\"ScoresGamestyle__PaddingWrapper-sc-7t80if-5 btOCDf\")"
   ]
  },
  {
   "cell_type": "code",
   "execution_count": 79,
   "id": "e7f57e28",
   "metadata": {},
   "outputs": [
    {
     "name": "stdout",
     "output_type": "stream",
     "text": [
      "Braves @ Mets\n",
      "4 & 5\n",
      "Braves @ Mets\n",
      "0 & 3\n",
      "D-backs @ Marlins\n",
      "5 & 4\n",
      "Rangers @ Phillies\n",
      "6 & 4\n",
      "Twins @ Orioles\n",
      "7 & 2\n",
      "Yankees @ Blue Jays\n",
      "9 & 1\n",
      "Angels @ Red Sox\n",
      "0 & 4\n",
      "White Sox @ Cubs\n",
      "3 & 1\n",
      "Reds @ Brewers\n",
      "3 & 6\n",
      "Mariners @ Astros\n",
      "0 & 4\n",
      "Cardinals @ Royals\n",
      "1 & 7\n",
      "Nationals @ Rockies\n",
      "10 & 2\n",
      "Rays @ Athletics\n",
      "10 & 7\n",
      "Giants @ Dodgers\n",
      "1 & 3\n",
      "Padres @ Guardians\n"
     ]
    },
    {
     "ename": "AttributeError",
     "evalue": "'NoneType' object has no attribute 'findChildren'",
     "output_type": "error",
     "traceback": [
      "\u001b[0;31m---------------------------------------------------------------------------\u001b[0m",
      "\u001b[0;31mAttributeError\u001b[0m                            Traceback (most recent call last)",
      "\u001b[0;32m/var/folders/6n/z6rxdnf97bn07rs5km3j2rjm0000gn/T/ipykernel_74560/3389717407.py\u001b[0m in \u001b[0;36m<module>\u001b[0;34m\u001b[0m\n\u001b[1;32m      5\u001b[0m     \u001b[0mhome_team\u001b[0m \u001b[0;34m=\u001b[0m \u001b[0mteams\u001b[0m\u001b[0;34m[\u001b[0m\u001b[0;36m1\u001b[0m\u001b[0;34m]\u001b[0m\u001b[0;34m.\u001b[0m\u001b[0mtext\u001b[0m\u001b[0;34m\u001b[0m\u001b[0;34m\u001b[0m\u001b[0m\n\u001b[1;32m      6\u001b[0m     \u001b[0mprint\u001b[0m\u001b[0;34m(\u001b[0m\u001b[0maway_team\u001b[0m \u001b[0;34m+\u001b[0m \u001b[0;34m' @ '\u001b[0m \u001b[0;34m+\u001b[0m \u001b[0mhome_team\u001b[0m\u001b[0;34m)\u001b[0m\u001b[0;34m\u001b[0m\u001b[0;34m\u001b[0m\u001b[0m\n\u001b[0;32m----> 7\u001b[0;31m     data = games[i].find('div',\n\u001b[0m\u001b[1;32m      8\u001b[0m                    class_=\"tablestyle__TableContainer-sc-wsl6eq-2 gNUrMZ\").findChildren()\n\u001b[1;32m      9\u001b[0m     \u001b[0maway_runs\u001b[0m \u001b[0;34m=\u001b[0m \u001b[0mdata\u001b[0m\u001b[0;34m[\u001b[0m\u001b[0;36m12\u001b[0m\u001b[0;34m]\u001b[0m\u001b[0;34m.\u001b[0m\u001b[0mtext\u001b[0m\u001b[0;34m\u001b[0m\u001b[0;34m\u001b[0m\u001b[0m\n",
      "\u001b[0;31mAttributeError\u001b[0m: 'NoneType' object has no attribute 'findChildren'"
     ]
    }
   ],
   "source": [
    "for i in range(len(games)):\n",
    "    teams  = games[i].find_all('div',\n",
    "                       class_=\"TeamWrappersstyle__DesktopTeamWrapper-sc-uqs6qh-0 fdaoCu\")\n",
    "    away_team = teams[0].text\n",
    "    home_team = teams[1].text\n",
    "    print(away_team + ' @ ' + home_team)\n",
    "    data = games[i].find('div',\n",
    "                   class_=\"tablestyle__TableContainer-sc-wsl6eq-2 gNUrMZ\").findChildren()\n",
    "    away_runs = data[12].text\n",
    "    away_hits = data[14].text\n",
    "    away_errors = data[16].text\n",
    "    home_runs = data[19].text\n",
    "    home_hits = data[21].text\n",
    "    home_errors = data[23].text\n",
    "    print(away_runs + ' & ' + home_runs)"
   ]
  },
  {
   "cell_type": "code",
   "execution_count": 92,
   "id": "e91973a7",
   "metadata": {},
   "outputs": [],
   "source": [
    "import subprocess"
   ]
  },
  {
   "cell_type": "code",
   "execution_count": 127,
   "id": "6e6b3832",
   "metadata": {},
   "outputs": [],
   "source": [
    "message = subprocess.run(['git', 'push', '-f'], capture_output=True, text=True).stdout"
   ]
  },
  {
   "cell_type": "code",
   "execution_count": 128,
   "id": "094d143f",
   "metadata": {},
   "outputs": [
    {
     "data": {
      "text/plain": [
       "''"
      ]
     },
     "execution_count": 128,
     "metadata": {},
     "output_type": "execute_result"
    }
   ],
   "source": [
    "message"
   ]
  },
  {
   "cell_type": "code",
   "execution_count": null,
   "id": "855f7bfd",
   "metadata": {},
   "outputs": [],
   "source": []
  },
  {
   "cell_type": "code",
   "execution_count": 73,
   "id": "d70c652e",
   "metadata": {},
   "outputs": [],
   "source": [
    "ll = list(range(10))"
   ]
  }
 ],
 "metadata": {
  "kernelspec": {
   "display_name": "Python 3 (ipykernel)",
   "language": "python",
   "name": "python3"
  },
  "language_info": {
   "codemirror_mode": {
    "name": "ipython",
    "version": 3
   },
   "file_extension": ".py",
   "mimetype": "text/x-python",
   "name": "python",
   "nbconvert_exporter": "python",
   "pygments_lexer": "ipython3",
   "version": "3.9.7"
  }
 },
 "nbformat": 4,
 "nbformat_minor": 5
}
