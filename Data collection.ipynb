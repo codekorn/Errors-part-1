{
 "cells": [
  {
   "cell_type": "code",
   "execution_count": 80,
   "id": "d992751e",
   "metadata": {},
   "outputs": [],
   "source": [
    "import requests\n",
    "from bs4 import BeautifulSoup\n",
    "from datetime import datetime, timedelta\n",
    "import pandas as pd\n",
    "from operator import itemgetter "
   ]
  },
  {
   "cell_type": "code",
   "execution_count": null,
   "id": "eef917f6",
   "metadata": {},
   "outputs": [],
   "source": [
    "url = 'https://www.mlb.com/scores/2022-05-03'\n",
    "r = requests.get(url)\n",
    "soup = BeautifulSoup(r.text, 'html.parser')\n",
    "games = soup.find_all('div', class_ =\"ScoresGamestyle__PaddingWrapper-sc-7t80if-5 btOCDf\")"
   ]
  },
  {
   "cell_type": "code",
   "execution_count": 57,
   "id": "ba6a23bc",
   "metadata": {},
   "outputs": [],
   "source": [
    "teams  = games[2].find_all('div',\n",
    "                   class_=\"TeamWrappersstyle__DesktopTeamWrapper-sc-uqs6qh-0 fdaoCu\")\n",
    "away_team = teams[0].text\n",
    "home_team = teams[1].text"
   ]
  },
  {
   "cell_type": "code",
   "execution_count": 59,
   "id": "f9d1071f",
   "metadata": {},
   "outputs": [
    {
     "data": {
      "text/plain": [
       "'Marlins'"
      ]
     },
     "execution_count": 59,
     "metadata": {},
     "output_type": "execute_result"
    }
   ],
   "source": [
    "home_team"
   ]
  },
  {
   "cell_type": "markdown",
   "id": "fd4a01a8",
   "metadata": {},
   "source": [
    "status = soup.find_all(\n",
    "                'span', class_=\"StatusLayerstyle__GameStateWrapper-sc-1s2c2o8-3 feaLYF\")"
   ]
  },
  {
   "cell_type": "code",
   "execution_count": 66,
   "id": "5075be69",
   "metadata": {},
   "outputs": [
    {
     "name": "stdout",
     "output_type": "stream",
     "text": [
      "Final\n",
      "Final\n",
      "Final\n",
      "Final\n",
      "Final\n",
      "Final\n",
      "Final\n",
      "Final\n",
      "Final\n",
      "Final\n",
      "Final\n",
      "Final\n",
      "Final/10\n",
      "Final\n",
      "Postponed\n",
      "Postponed\n"
     ]
    }
   ],
   "source": [
    "for i in range(len(status)):\n",
    "    print(status[i].text)"
   ]
  },
  {
   "cell_type": "code",
   "execution_count": null,
   "id": "90e662eb",
   "metadata": {},
   "outputs": [],
   "source": [
    "<div class=\"tablestyle__TableContainer-sc-wsl6eq-2 gNUrMZ\"><div class=\"tablestyle__TableScroller-sc-wsl6eq-1 LMMJf\"><table class=\"tablestyle__StyledTable-sc-wsl6eq-0 bqIWWu\"><thead><tr data-selected=\"false\"><th scope=\"col\" headers=\"tb-2-header col-0\" data-col=\"0\" class=\"table-cellstyle__StyledTableHead-sc-xpntj7-3 deQnKM\"><div class=\"lineScorestyle__StyledHeadCell-sc-1d7bghs-0 cFqMvg\">R</div></th><th scope=\"col\" headers=\"tb-2-header col-1\" data-col=\"1\" class=\"table-cellstyle__StyledTableHead-sc-xpntj7-3 deQnKM\"><div class=\"lineScorestyle__StyledHeadCell-sc-1d7bghs-0 cFqMvg\">H</div></th><th scope=\"col\" headers=\"tb-2-header col-2\" data-col=\"2\" class=\"table-cellstyle__StyledTableHead-sc-xpntj7-3 deQnKM\"><div class=\"lineScorestyle__StyledHeadCell-sc-1d7bghs-0 cFqMvg\">E</div></th></tr></thead><tbody><tr data-selected=\"false\"><td scope=\"row\" id=\"tb-2-body row-0 col-0\" data-col=\"0\" data-row=\"0\" class=\"table-cellstyle__StyledTableCell-sc-xpntj7-2 ljCIPI\"><div class=\"lineScorestyle__StyledInningCell-sc-1d7bghs-1 ddFUsj\">4</div></td><td scope=\"row\" id=\"tb-2-body row-0 col-1\" data-col=\"1\" data-row=\"0\" class=\"table-cellstyle__StyledTableCell-sc-xpntj7-2 ljCIPI\"><div class=\"lineScorestyle__StyledInningCell-sc-1d7bghs-1 bybxiY\">5</div></td><td scope=\"row\" id=\"tb-2-body row-0 col-2\" data-col=\"2\" data-row=\"0\" class=\"table-cellstyle__StyledTableCell-sc-xpntj7-2 ljCIPI\"><div class=\"lineScorestyle__StyledInningCell-sc-1d7bghs-1 bybxiY\">2</div></td></tr><tr data-selected=\"false\"><td scope=\"row\" id=\"tb-2-body row-1 col-0\" data-col=\"0\" data-row=\"1\" class=\"table-cellstyle__StyledTableCell-sc-xpntj7-2 ljCIPI\"><div class=\"lineScorestyle__StyledInningCell-sc-1d7bghs-1 jPCzPZ\">5</div></td><td scope=\"row\" id=\"tb-2-body row-1 col-1\" data-col=\"1\" data-row=\"1\" class=\"table-cellstyle__StyledTableCell-sc-xpntj7-2 ljCIPI\"><div class=\"lineScorestyle__StyledInningCell-sc-1d7bghs-1 ggbVFi\">7</div></td><td scope=\"row\" id=\"tb-2-body row-1 col-2\" data-col=\"2\" data-row=\"1\" class=\"table-cellstyle__StyledTableCell-sc-xpntj7-2 ljCIPI\"><div class=\"lineScorestyle__StyledInningCell-sc-1d7bghs-1 ggbVFi\">1</div></td></tr></tbody></table></div></div>"
   ]
  },
  {
   "cell_type": "code",
   "execution_count": 60,
   "id": "9a6d6ff0",
   "metadata": {},
   "outputs": [],
   "source": [
    "data = games[2].find('div',\n",
    "                   class_=\"tablestyle__TableContainer-sc-wsl6eq-2 gNUrMZ\").findChildren()\n",
    "away_runs = data[12].text\n",
    "away_hits = data[14].text\n",
    "away_errors = data[16].text\n",
    "home_runs = data[19].text\n",
    "home_hits = data[21].text\n",
    "home_errors = data[23].text"
   ]
  },
  {
   "cell_type": "code",
   "execution_count": null,
   "id": "bf130199",
   "metadata": {},
   "outputs": [],
   "source": [
    "<span data-mlb-test=\"gameStartTimesStateLabel\" class=\"StatusLayerstyle__GameStateWrapper-sc-1s2c2o8-3 feaLYF\">Final</span>"
   ]
  },
  {
   "cell_type": "code",
   "execution_count": 69,
   "id": "b8cc65b8",
   "metadata": {},
   "outputs": [],
   "source": [
    "data = {'date':[], 'away_team': [], 'away_runs': [],'away_team': [],'away_errors': [],\n",
    "        'home_team': [], 'home_runs': [],'home_team': [],'home_errors': []}"
   ]
  },
  {
   "cell_type": "code",
   "execution_count": 156,
   "id": "9b160b87",
   "metadata": {},
   "outputs": [],
   "source": [
    "url = 'https://www.mlb.com/scores/2022-05-03'\n",
    "r = requests.get(url)\n",
    "soup = BeautifulSoup(r.text, 'html.parser')\n",
    "games = soup.find_all('div', class_ =\"ScoresGamestyle__PaddingWrapper-sc-7t80if-5 btOCDf\")"
   ]
  },
  {
   "cell_type": "code",
   "execution_count": 161,
   "id": "159b3b7c",
   "metadata": {},
   "outputs": [
    {
     "ename": "AttributeError",
     "evalue": "'list' object has no attribute 'text'",
     "output_type": "error",
     "traceback": [
      "\u001b[0;31m---------------------------------------------------------------------------\u001b[0m",
      "\u001b[0;31mAttributeError\u001b[0m                            Traceback (most recent call last)",
      "\u001b[0;32m/var/folders/6n/z6rxdnf97bn07rs5km3j2rjm0000gn/T/ipykernel_74560/1865884736.py\u001b[0m in \u001b[0;36m<module>\u001b[0;34m\u001b[0m\n\u001b[1;32m      1\u001b[0m data = games[2].find('div',\n\u001b[1;32m      2\u001b[0m                    class_=\"tablestyle__TableContainer-sc-wsl6eq-2 gNUrMZ\").findChildren()\n\u001b[0;32m----> 3\u001b[0;31m \u001b[0maway_runs\u001b[0m\u001b[0;34m,\u001b[0m \u001b[0maway_hits\u001b[0m\u001b[0;34m,\u001b[0m \u001b[0maway_errors\u001b[0m \u001b[0;34m=\u001b[0m \u001b[0mitemgetter\u001b[0m\u001b[0;34m(\u001b[0m\u001b[0;34m*\u001b[0m\u001b[0;34m[\u001b[0m\u001b[0;36m12\u001b[0m\u001b[0;34m,\u001b[0m\u001b[0;36m14\u001b[0m\u001b[0;34m,\u001b[0m\u001b[0;36m16\u001b[0m\u001b[0;34m]\u001b[0m\u001b[0;34m.\u001b[0m\u001b[0mtext\u001b[0m\u001b[0;34m)\u001b[0m\u001b[0;34m(\u001b[0m\u001b[0mdata\u001b[0m\u001b[0;34m)\u001b[0m\u001b[0;34m\u001b[0m\u001b[0;34m\u001b[0m\u001b[0m\n\u001b[0m\u001b[1;32m      4\u001b[0m \u001b[0mprint\u001b[0m\u001b[0;34m(\u001b[0m\u001b[0maway_runs\u001b[0m\u001b[0;34m,\u001b[0m \u001b[0maway_hits\u001b[0m\u001b[0;34m,\u001b[0m \u001b[0maway_errors\u001b[0m\u001b[0;34m)\u001b[0m\u001b[0;34m\u001b[0m\u001b[0;34m\u001b[0m\u001b[0m\n",
      "\u001b[0;31mAttributeError\u001b[0m: 'list' object has no attribute 'text'"
     ]
    }
   ],
   "source": [
    "data = games[2].find('div',\n",
    "                   class_=\"tablestyle__TableContainer-sc-wsl6eq-2 gNUrMZ\").findChildren()\n",
    "away_runs, away_hits, away_errors = itemgetter(*[12,14,16].text)(data)\n",
    "print(away_runs, away_hits, away_errors)"
   ]
  },
  {
   "cell_type": "code",
   "execution_count": 163,
   "id": "48d1f355",
   "metadata": {},
   "outputs": [],
   "source": [
    "def get_games(date):\n",
    "    url = 'https://www.mlb.com/scores/' + date\n",
    "    r = requests.get(url)\n",
    "    soup = BeautifulSoup(r.text, 'html.parser')\n",
    "    # get every game card on page\n",
    "    games = soup.find_all('div', class_ =\"ScoresGamestyle__PaddingWrapper-sc-7t80if-5 btOCDf\")\n",
    "    return games"
   ]
  },
  {
   "cell_type": "code",
   "execution_count": 179,
   "id": "94118c58",
   "metadata": {},
   "outputs": [],
   "source": [
    "def get_game_data(date):\n",
    "    \n",
    "    data = {'date':[], 'away_team': [], 'away_runs': [], 'away_hits': [],\n",
    "            'away_errors': [], 'home_team': [], 'home_runs': [],\n",
    "            'home_hits': [],'home_errors': []}\n",
    "    games = get_games(date)\n",
    "    all_status = soup.find_all(\n",
    "                    'span', \n",
    "            class_=\"StatusLayerstyle__GameStateWrapper-sc-1s2c2o8-3 feaLYF\")\n",
    "    for i in range(len(games)):\n",
    "        status = all_status[i].text\n",
    "        if status[:5] != 'Final':\n",
    "            continue\n",
    "        teams  = games[i].find_all('div',\n",
    "                           class_=\"TeamWrappersstyle__DesktopTeamWrapper-sc-uqs6qh-0 fdaoCu\")\n",
    "        data['date'].append(date)\n",
    "        data['away_team'].append(teams[0].text)\n",
    "        data['home_team'].append(teams[1].text)\n",
    "        gdata = games[i].find('div',\n",
    "                       class_=\"tablestyle__TableContainer-sc-wsl6eq-2 gNUrMZ\").findChildren()\n",
    "        away_runs,away_hits,away_errors = gdata[12].text, gdata[14].text,gdata[16].text\n",
    "        home_runs,home_hits,home_errors = gdata[19].text, gdata[21].text,gdata[23].text\n",
    "        data['away_runs'].append(away_runs)\n",
    "        data['away_hits'].append(away_hits)\n",
    "        data['away_errors'].append(away_errors)\n",
    "        data['home_runs'].append(home_runs)\n",
    "        data['home_hits'].append(home_hits)\n",
    "        data['home_errors'].append(home_errors)\n",
    "    \n",
    "    return data"
   ]
  },
  {
   "cell_type": "code",
   "execution_count": 235,
   "id": "98b00112",
   "metadata": {},
   "outputs": [],
   "source": [
    "def combine_dicts(dict1, dict2):\n",
    "    # only works for dicts with same keys\n",
    "    dict_return = dict1.copy()\n",
    "    for k in dict1.keys():\n",
    "        dict_return[k] = dict1[k] + dict2[k]\n",
    "    return dict_return"
   ]
  },
  {
   "cell_type": "code",
   "execution_count": null,
   "id": "87e9f010",
   "metadata": {},
   "outputs": [],
   "source": [
    "def create_df_for_year(start_date, end_date):\n",
    "    date = start_date\n",
    "    previous_dict = get_game_data(date)\n",
    "    while date != end_date:\n",
    "        date = list(map(int, date.split('-')))\n",
    "        date = (datetime(*date) + timedelta(days=1)).strftime('%Y-%m-%d')\n",
    "        game_dict = get_game_data(date)\n",
    "        previous_dict = combine_dicts(previous_dict, game_dict)\n",
    "    return previous_dict\n",
    "            "
   ]
  },
  {
   "cell_type": "code",
   "execution_count": 237,
   "id": "1fb3b2cc",
   "metadata": {},
   "outputs": [
    {
     "data": {
      "text/plain": [
       "datetime.datetime(2022, 4, 7, 0, 0)"
      ]
     },
     "execution_count": 237,
     "metadata": {},
     "output_type": "execute_result"
    }
   ],
   "source": [
    "rand_choice = np.random.choice(, 1,\n",
    "              p=[0.1]*6 + [0.05] * 4 + [0.03]*5 + [0.01] *5)"
   ]
  },
  {
   "cell_type": "code",
   "execution_count": 255,
   "id": "0f8d262a",
   "metadata": {},
   "outputs": [
    {
     "data": {
      "text/plain": [
       "[2022, 4, 8]"
      ]
     },
     "execution_count": 255,
     "metadata": {},
     "output_type": "execute_result"
    }
   ],
   "source": [
    "list(range(5,25))"
   ]
  },
  {
   "cell_type": "code",
   "execution_count": null,
   "id": "c417b8a3",
   "metadata": {},
   "outputs": [],
   "source": []
  }
 ],
 "metadata": {
  "kernelspec": {
   "display_name": "Python 3 (ipykernel)",
   "language": "python",
   "name": "python3"
  },
  "language_info": {
   "codemirror_mode": {
    "name": "ipython",
    "version": 3
   },
   "file_extension": ".py",
   "mimetype": "text/x-python",
   "name": "python",
   "nbconvert_exporter": "python",
   "pygments_lexer": "ipython3",
   "version": "3.9.7"
  }
 },
 "nbformat": 4,
 "nbformat_minor": 5
}
