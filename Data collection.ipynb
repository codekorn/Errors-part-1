{
 "cells": [
  {
   "cell_type": "code",
   "execution_count": 80,
   "id": "24437ff3",
   "metadata": {},
   "outputs": [],
   "source": [
    "import requests\n",
    "from bs4 import BeautifulSoup\n",
    "from datetime import datetime, timedelta\n",
    "import pandas as pd\n",
    "from operator import itemgetter "
   ]
  },
  {
   "cell_type": "code",
   "execution_count": null,
   "id": "dbb913e5",
   "metadata": {},
   "outputs": [],
   "source": [
    "url = 'https://www.mlb.com/scores/2022-05-03'\n",
    "r = requests.get(url)\n",
    "soup = BeautifulSoup(r.text, 'html.parser')\n",
    "games = soup.find_all('div', class_ =\"ScoresGamestyle__PaddingWrapper-sc-7t80if-5 btOCDf\")"
   ]
  },
  {
   "cell_type": "code",
   "execution_count": 57,
   "id": "d3fcb37d",
   "metadata": {},
   "outputs": [],
   "source": [
    "teams  = games[2].find_all('div',\n",
    "                   class_=\"TeamWrappersstyle__DesktopTeamWrapper-sc-uqs6qh-0 fdaoCu\")\n",
    "away_team = teams[0].text\n",
    "home_team = teams[1].text"
   ]
  },
  {
   "cell_type": "code",
   "execution_count": 59,
   "id": "ac519785",
   "metadata": {},
   "outputs": [
    {
     "data": {
      "text/plain": [
       "'Marlins'"
      ]
     },
     "execution_count": 59,
     "metadata": {},
     "output_type": "execute_result"
    }
   ],
   "source": [
    "home_team"
   ]
  },
  {
   "cell_type": "markdown",
   "id": "5753d2fb",
   "metadata": {},
   "source": [
    "status = soup.find_all(\n",
    "                'span', class_=\"StatusLayerstyle__GameStateWrapper-sc-1s2c2o8-3 feaLYF\")"
   ]
  },
  {
   "cell_type": "code",
   "execution_count": 66,
   "id": "c10af532",
   "metadata": {},
   "outputs": [
    {
     "name": "stdout",
     "output_type": "stream",
     "text": [
      "Final\n",
      "Final\n",
      "Final\n",
      "Final\n",
      "Final\n",
      "Final\n",
      "Final\n",
      "Final\n",
      "Final\n",
      "Final\n",
      "Final\n",
      "Final\n",
      "Final/10\n",
      "Final\n",
      "Postponed\n",
      "Postponed\n"
     ]
    }
   ],
   "source": [
    "for i in range(len(status)):\n",
    "    print(status[i].text)"
   ]
  },
  {
   "cell_type": "code",
   "execution_count": null,
   "id": "08064caa",
   "metadata": {},
   "outputs": [],
   "source": [
    "<div class=\"tablestyle__TableContainer-sc-wsl6eq-2 gNUrMZ\"><div class=\"tablestyle__TableScroller-sc-wsl6eq-1 LMMJf\"><table class=\"tablestyle__StyledTable-sc-wsl6eq-0 bqIWWu\"><thead><tr data-selected=\"false\"><th scope=\"col\" headers=\"tb-2-header col-0\" data-col=\"0\" class=\"table-cellstyle__StyledTableHead-sc-xpntj7-3 deQnKM\"><div class=\"lineScorestyle__StyledHeadCell-sc-1d7bghs-0 cFqMvg\">R</div></th><th scope=\"col\" headers=\"tb-2-header col-1\" data-col=\"1\" class=\"table-cellstyle__StyledTableHead-sc-xpntj7-3 deQnKM\"><div class=\"lineScorestyle__StyledHeadCell-sc-1d7bghs-0 cFqMvg\">H</div></th><th scope=\"col\" headers=\"tb-2-header col-2\" data-col=\"2\" class=\"table-cellstyle__StyledTableHead-sc-xpntj7-3 deQnKM\"><div class=\"lineScorestyle__StyledHeadCell-sc-1d7bghs-0 cFqMvg\">E</div></th></tr></thead><tbody><tr data-selected=\"false\"><td scope=\"row\" id=\"tb-2-body row-0 col-0\" data-col=\"0\" data-row=\"0\" class=\"table-cellstyle__StyledTableCell-sc-xpntj7-2 ljCIPI\"><div class=\"lineScorestyle__StyledInningCell-sc-1d7bghs-1 ddFUsj\">4</div></td><td scope=\"row\" id=\"tb-2-body row-0 col-1\" data-col=\"1\" data-row=\"0\" class=\"table-cellstyle__StyledTableCell-sc-xpntj7-2 ljCIPI\"><div class=\"lineScorestyle__StyledInningCell-sc-1d7bghs-1 bybxiY\">5</div></td><td scope=\"row\" id=\"tb-2-body row-0 col-2\" data-col=\"2\" data-row=\"0\" class=\"table-cellstyle__StyledTableCell-sc-xpntj7-2 ljCIPI\"><div class=\"lineScorestyle__StyledInningCell-sc-1d7bghs-1 bybxiY\">2</div></td></tr><tr data-selected=\"false\"><td scope=\"row\" id=\"tb-2-body row-1 col-0\" data-col=\"0\" data-row=\"1\" class=\"table-cellstyle__StyledTableCell-sc-xpntj7-2 ljCIPI\"><div class=\"lineScorestyle__StyledInningCell-sc-1d7bghs-1 jPCzPZ\">5</div></td><td scope=\"row\" id=\"tb-2-body row-1 col-1\" data-col=\"1\" data-row=\"1\" class=\"table-cellstyle__StyledTableCell-sc-xpntj7-2 ljCIPI\"><div class=\"lineScorestyle__StyledInningCell-sc-1d7bghs-1 ggbVFi\">7</div></td><td scope=\"row\" id=\"tb-2-body row-1 col-2\" data-col=\"2\" data-row=\"1\" class=\"table-cellstyle__StyledTableCell-sc-xpntj7-2 ljCIPI\"><div class=\"lineScorestyle__StyledInningCell-sc-1d7bghs-1 ggbVFi\">1</div></td></tr></tbody></table></div></div>"
   ]
  },
  {
   "cell_type": "code",
   "execution_count": 60,
   "id": "940c1570",
   "metadata": {},
   "outputs": [],
   "source": [
    "data = games[2].find('div',\n",
    "                   class_=\"tablestyle__TableContainer-sc-wsl6eq-2 gNUrMZ\").findChildren()\n",
    "away_runs = data[12].text\n",
    "away_hits = data[14].text\n",
    "away_errors = data[16].text\n",
    "home_runs = data[19].text\n",
    "home_hits = data[21].text\n",
    "home_errors = data[23].text"
   ]
  },
  {
   "cell_type": "code",
   "execution_count": null,
   "id": "a5b97db3",
   "metadata": {},
   "outputs": [],
   "source": [
    "<span data-mlb-test=\"gameStartTimesStateLabel\" class=\"StatusLayerstyle__GameStateWrapper-sc-1s2c2o8-3 feaLYF\">Final</span>"
   ]
  },
  {
   "cell_type": "code",
   "execution_count": 69,
   "id": "09f79947",
   "metadata": {},
   "outputs": [],
   "source": [
    "data = {'date':[], 'away_team': [], 'away_runs': [],'away_team': [],'away_errors': [],\n",
    "        'home_team': [], 'home_runs': [],'home_team': [],'home_errors': []}"
   ]
  },
  {
   "cell_type": "code",
   "execution_count": 156,
   "id": "a0c42074",
   "metadata": {},
   "outputs": [],
   "source": [
    "url = 'https://www.mlb.com/scores/2022-05-03'\n",
    "r = requests.get(url)\n",
    "soup = BeautifulSoup(r.text, 'html.parser')\n",
    "games = soup.find_all('div', class_ =\"ScoresGamestyle__PaddingWrapper-sc-7t80if-5 btOCDf\")"
   ]
  },
  {
   "cell_type": "code",
   "execution_count": 161,
   "id": "c5cdd8d8",
   "metadata": {},
   "outputs": [
    {
     "ename": "AttributeError",
     "evalue": "'list' object has no attribute 'text'",
     "output_type": "error",
     "traceback": [
      "\u001b[0;31m---------------------------------------------------------------------------\u001b[0m",
      "\u001b[0;31mAttributeError\u001b[0m                            Traceback (most recent call last)",
      "\u001b[0;32m/var/folders/6n/z6rxdnf97bn07rs5km3j2rjm0000gn/T/ipykernel_74560/1865884736.py\u001b[0m in \u001b[0;36m<module>\u001b[0;34m\u001b[0m\n\u001b[1;32m      1\u001b[0m data = games[2].find('div',\n\u001b[1;32m      2\u001b[0m                    class_=\"tablestyle__TableContainer-sc-wsl6eq-2 gNUrMZ\").findChildren()\n\u001b[0;32m----> 3\u001b[0;31m \u001b[0maway_runs\u001b[0m\u001b[0;34m,\u001b[0m \u001b[0maway_hits\u001b[0m\u001b[0;34m,\u001b[0m \u001b[0maway_errors\u001b[0m \u001b[0;34m=\u001b[0m \u001b[0mitemgetter\u001b[0m\u001b[0;34m(\u001b[0m\u001b[0;34m*\u001b[0m\u001b[0;34m[\u001b[0m\u001b[0;36m12\u001b[0m\u001b[0;34m,\u001b[0m\u001b[0;36m14\u001b[0m\u001b[0;34m,\u001b[0m\u001b[0;36m16\u001b[0m\u001b[0;34m]\u001b[0m\u001b[0;34m.\u001b[0m\u001b[0mtext\u001b[0m\u001b[0;34m)\u001b[0m\u001b[0;34m(\u001b[0m\u001b[0mdata\u001b[0m\u001b[0;34m)\u001b[0m\u001b[0;34m\u001b[0m\u001b[0;34m\u001b[0m\u001b[0m\n\u001b[0m\u001b[1;32m      4\u001b[0m \u001b[0mprint\u001b[0m\u001b[0;34m(\u001b[0m\u001b[0maway_runs\u001b[0m\u001b[0;34m,\u001b[0m \u001b[0maway_hits\u001b[0m\u001b[0;34m,\u001b[0m \u001b[0maway_errors\u001b[0m\u001b[0;34m)\u001b[0m\u001b[0;34m\u001b[0m\u001b[0;34m\u001b[0m\u001b[0m\n",
      "\u001b[0;31mAttributeError\u001b[0m: 'list' object has no attribute 'text'"
     ]
    }
   ],
   "source": [
    "data = games[2].find('div',\n",
    "                   class_=\"tablestyle__TableContainer-sc-wsl6eq-2 gNUrMZ\").findChildren()\n",
    "away_runs, away_hits, away_errors = itemgetter(*[12,14,16].text)(data)\n",
    "print(away_runs, away_hits, away_errors)"
   ]
  },
  {
   "cell_type": "code",
   "execution_count": 163,
   "id": "ea4fcc64",
   "metadata": {},
   "outputs": [],
   "source": [
    "def get_games(date):\n",
    "    url = 'https://www.mlb.com/scores/' + date\n",
    "    r = requests.get(url)\n",
    "    soup = BeautifulSoup(r.text, 'html.parser')\n",
    "    # get every game card on page\n",
    "    games = soup.find_all('div', class_ =\"ScoresGamestyle__PaddingWrapper-sc-7t80if-5 btOCDf\")\n",
    "    return games"
   ]
  },
  {
   "cell_type": "code",
   "execution_count": 164,
   "id": "b54ab0d9",
   "metadata": {},
   "outputs": [],
   "source": [
    "def get_game_data(date):\n",
    "    \n",
    "    data = {'date':[], 'away_team': [], 'away_runs': [], 'away_hits': [],\n",
    "            'away_errors': [], 'home_team': [], 'home_runs': [],\n",
    "            'home_hits': [],'home_errors': []}\n",
    "    games = get_games(date)\n",
    "    for i in range(len(games)):\n",
    "        teams  = games[i].find_all('div',\n",
    "                           class_=\"TeamWrappersstyle__DesktopTeamWrapper-sc-uqs6qh-0 fdaoCu\")\n",
    "        data['date'].append(date)\n",
    "        data['away_team'].append(teams[0].text)\n",
    "        data['home_team'].append(teams[1].text)\n",
    "        status = soup.find_all(\n",
    "                    'span', \n",
    "            class_=\"StatusLayerstyle__GameStateWrapper-sc-1s2c2o8-3 feaLYF\")[i].text\n",
    "        if status[:5] != 'Final':\n",
    "            continue\n",
    "        data = games[i].find('div',\n",
    "                       class_=\"tablestyle__TableContainer-sc-wsl6eq-2 gNUrMZ\").findChildren()\n",
    "        away_runs,away_hits,away_errors = data[12].text, data[14].text,data[16].text\n",
    "        home_runs,home_hits,home_errors = data[19].text, data[21].text,data[23].text\n",
    "        data['away_runs'].append(away_runs)\n",
    "        data['away_hits'].append(away_hits)\n",
    "        data['away_errors'].append(away_errors)\n",
    "        data['home_runs'].append(home_runs)\n",
    "        data['home_hits'].append(home_hits)\n",
    "        data['home_errors'].append(home_errors)\n",
    "    \n",
    "    return data"
   ]
  },
  {
   "cell_type": "code",
   "execution_count": 165,
   "id": "c07bb9ba",
   "metadata": {},
   "outputs": [
    {
     "ename": "TypeError",
     "evalue": "list indices must be integers or slices, not str",
     "output_type": "error",
     "traceback": [
      "\u001b[0;31m---------------------------------------------------------------------------\u001b[0m",
      "\u001b[0;31mTypeError\u001b[0m                                 Traceback (most recent call last)",
      "\u001b[0;32m/var/folders/6n/z6rxdnf97bn07rs5km3j2rjm0000gn/T/ipykernel_74560/3866489206.py\u001b[0m in \u001b[0;36m<module>\u001b[0;34m\u001b[0m\n\u001b[0;32m----> 1\u001b[0;31m \u001b[0mget_game_data\u001b[0m\u001b[0;34m(\u001b[0m\u001b[0;34m'2022-05-03'\u001b[0m\u001b[0;34m)\u001b[0m\u001b[0;34m\u001b[0m\u001b[0;34m\u001b[0m\u001b[0m\n\u001b[0m",
      "\u001b[0;32m/var/folders/6n/z6rxdnf97bn07rs5km3j2rjm0000gn/T/ipykernel_74560/173617443.py\u001b[0m in \u001b[0;36mget_game_data\u001b[0;34m(date)\u001b[0m\n\u001b[1;32m     20\u001b[0m         \u001b[0maway_runs\u001b[0m\u001b[0;34m,\u001b[0m\u001b[0maway_hits\u001b[0m\u001b[0;34m,\u001b[0m\u001b[0maway_errors\u001b[0m \u001b[0;34m=\u001b[0m \u001b[0mdata\u001b[0m\u001b[0;34m[\u001b[0m\u001b[0;36m12\u001b[0m\u001b[0;34m]\u001b[0m\u001b[0;34m.\u001b[0m\u001b[0mtext\u001b[0m\u001b[0;34m,\u001b[0m \u001b[0mdata\u001b[0m\u001b[0;34m[\u001b[0m\u001b[0;36m14\u001b[0m\u001b[0;34m]\u001b[0m\u001b[0;34m.\u001b[0m\u001b[0mtext\u001b[0m\u001b[0;34m,\u001b[0m\u001b[0mdata\u001b[0m\u001b[0;34m[\u001b[0m\u001b[0;36m16\u001b[0m\u001b[0;34m]\u001b[0m\u001b[0;34m.\u001b[0m\u001b[0mtext\u001b[0m\u001b[0;34m\u001b[0m\u001b[0;34m\u001b[0m\u001b[0m\n\u001b[1;32m     21\u001b[0m         \u001b[0mhome_runs\u001b[0m\u001b[0;34m,\u001b[0m\u001b[0mhome_hits\u001b[0m\u001b[0;34m,\u001b[0m\u001b[0mhome_errors\u001b[0m \u001b[0;34m=\u001b[0m \u001b[0mdata\u001b[0m\u001b[0;34m[\u001b[0m\u001b[0;36m19\u001b[0m\u001b[0;34m]\u001b[0m\u001b[0;34m.\u001b[0m\u001b[0mtext\u001b[0m\u001b[0;34m,\u001b[0m \u001b[0mdata\u001b[0m\u001b[0;34m[\u001b[0m\u001b[0;36m21\u001b[0m\u001b[0;34m]\u001b[0m\u001b[0;34m.\u001b[0m\u001b[0mtext\u001b[0m\u001b[0;34m,\u001b[0m\u001b[0mdata\u001b[0m\u001b[0;34m[\u001b[0m\u001b[0;36m23\u001b[0m\u001b[0;34m]\u001b[0m\u001b[0;34m.\u001b[0m\u001b[0mtext\u001b[0m\u001b[0;34m\u001b[0m\u001b[0;34m\u001b[0m\u001b[0m\n\u001b[0;32m---> 22\u001b[0;31m         \u001b[0mdata\u001b[0m\u001b[0;34m[\u001b[0m\u001b[0;34m'away_runs'\u001b[0m\u001b[0;34m]\u001b[0m\u001b[0;34m.\u001b[0m\u001b[0mappend\u001b[0m\u001b[0;34m(\u001b[0m\u001b[0maway_runs\u001b[0m\u001b[0;34m)\u001b[0m\u001b[0;34m\u001b[0m\u001b[0;34m\u001b[0m\u001b[0m\n\u001b[0m\u001b[1;32m     23\u001b[0m         \u001b[0mdata\u001b[0m\u001b[0;34m[\u001b[0m\u001b[0;34m'away_hits'\u001b[0m\u001b[0;34m]\u001b[0m\u001b[0;34m.\u001b[0m\u001b[0mappend\u001b[0m\u001b[0;34m(\u001b[0m\u001b[0maway_hits\u001b[0m\u001b[0;34m)\u001b[0m\u001b[0;34m\u001b[0m\u001b[0;34m\u001b[0m\u001b[0m\n\u001b[1;32m     24\u001b[0m         \u001b[0mdata\u001b[0m\u001b[0;34m[\u001b[0m\u001b[0;34m'away_errors'\u001b[0m\u001b[0;34m]\u001b[0m\u001b[0;34m.\u001b[0m\u001b[0mappend\u001b[0m\u001b[0;34m(\u001b[0m\u001b[0maway_errors\u001b[0m\u001b[0;34m)\u001b[0m\u001b[0;34m\u001b[0m\u001b[0;34m\u001b[0m\u001b[0m\n",
      "\u001b[0;31mTypeError\u001b[0m: list indices must be integers or slices, not str"
     ]
    }
   ],
   "source": [
    "get_game_data('2022-05-03')"
   ]
  },
  {
   "cell_type": "code",
   "execution_count": null,
   "id": "4a5a6d5a",
   "metadata": {},
   "outputs": [],
   "source": []
  }
 ],
 "metadata": {
  "kernelspec": {
   "display_name": "Python 3 (ipykernel)",
   "language": "python",
   "name": "python3"
  },
  "language_info": {
   "codemirror_mode": {
    "name": "ipython",
    "version": 3
   },
   "file_extension": ".py",
   "mimetype": "text/x-python",
   "name": "python",
   "nbconvert_exporter": "python",
   "pygments_lexer": "ipython3",
   "version": "3.9.7"
  }
 },
 "nbformat": 4,
 "nbformat_minor": 5
}
