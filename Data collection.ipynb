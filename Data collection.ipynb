{
 "cells": [
  {
   "cell_type": "code",
   "execution_count": 1,
   "id": "be3dc794",
   "metadata": {},
   "outputs": [],
   "source": [
    "import requests\n",
    "from bs4 import BeautifulSoup"
   ]
  },
  {
   "cell_type": "code",
   "execution_count": 24,
   "id": "1f14cb0f",
   "metadata": {},
   "outputs": [],
   "source": [
    "url = 'https://www.mlb.com/scores/2022-05-03'\n",
    "r = requests.get(url)"
   ]
  },
  {
   "cell_type": "code",
   "execution_count": 25,
   "id": "2a053c1c",
   "metadata": {},
   "outputs": [],
   "source": [
    "soup = BeautifulSoup(r.text, 'html.parser')"
   ]
  },
  {
   "cell_type": "code",
   "execution_count": 27,
   "id": "537f846d",
   "metadata": {},
   "outputs": [],
   "source": [
    "games = soup.find_all('div', class_ =\"ScoresGamestyle__PaddingWrapper-sc-7t80if-5 btOCDf\")"
   ]
  },
  {
   "cell_type": "code",
   "execution_count": 32,
   "id": "4de0340a",
   "metadata": {},
   "outputs": [
    {
     "data": {
      "text/plain": [
       "'Yankees'"
      ]
     },
     "execution_count": 32,
     "metadata": {},
     "output_type": "execute_result"
    }
   ],
   "source": [
    "games[5].find('div', class_=\"TeamWrappersstyle__DesktopTeamWrapper-sc-uqs6qh-0 fdaoCu\").text"
   ]
  },
  {
   "cell_type": "code",
   "execution_count": null,
   "id": "23146407",
   "metadata": {},
   "outputs": [],
   "source": [
    "<div class=\"TeamWrappersstyle__DesktopTeamWrapper-sc-uqs6qh-0 fdaoCu\">"
   ]
  }
 ],
 "metadata": {
  "kernelspec": {
   "display_name": "Python 3 (ipykernel)",
   "language": "python",
   "name": "python3"
  },
  "language_info": {
   "codemirror_mode": {
    "name": "ipython",
    "version": 3
   },
   "file_extension": ".py",
   "mimetype": "text/x-python",
   "name": "python",
   "nbconvert_exporter": "python",
   "pygments_lexer": "ipython3",
   "version": "3.9.7"
  }
 },
 "nbformat": 4,
 "nbformat_minor": 5
}
