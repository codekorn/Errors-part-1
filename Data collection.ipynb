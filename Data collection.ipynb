{
 "cells": [
  {
   "cell_type": "code",
   "execution_count": 68,
   "id": "1083d9ba",
   "metadata": {},
   "outputs": [],
   "source": [
    "import requests\n",
    "from bs4 import BeautifulSoup\n",
    "from datetime import datetime, timedelta\n",
    "import pandas as pd"
   ]
  },
  {
   "cell_type": "code",
   "execution_count": null,
   "id": "88129ea0",
   "metadata": {},
   "outputs": [],
   "source": [
    "url = 'https://www.mlb.com/scores/2022-05-03'\n",
    "r = requests.get(url)\n",
    "soup = BeautifulSoup(r.text, 'html.parser')\n",
    "games = soup.find_all('div', class_ =\"ScoresGamestyle__PaddingWrapper-sc-7t80if-5 btOCDf\")"
   ]
  },
  {
   "cell_type": "code",
   "execution_count": 57,
   "id": "e808be98",
   "metadata": {},
   "outputs": [],
   "source": [
    "teams  = games[2].find_all('div',\n",
    "                   class_=\"TeamWrappersstyle__DesktopTeamWrapper-sc-uqs6qh-0 fdaoCu\")\n",
    "away_team = teams[0].text\n",
    "home_team = teams[1].text"
   ]
  },
  {
   "cell_type": "code",
   "execution_count": 59,
   "id": "9a779213",
   "metadata": {},
   "outputs": [
    {
     "data": {
      "text/plain": [
       "'Marlins'"
      ]
     },
     "execution_count": 59,
     "metadata": {},
     "output_type": "execute_result"
    }
   ],
   "source": [
    "home_team"
   ]
  },
  {
   "cell_type": "code",
   "execution_count": 63,
   "id": "35569e9e",
   "metadata": {},
   "outputs": [],
   "source": [
    "status = soup.find_all(\n",
    "                'span', class_=\"StatusLayerstyle__GameStateWrapper-sc-1s2c2o8-3 feaLYF\")"
   ]
  },
  {
   "cell_type": "code",
   "execution_count": 66,
   "id": "823bc38b",
   "metadata": {},
   "outputs": [
    {
     "name": "stdout",
     "output_type": "stream",
     "text": [
      "Final\n",
      "Final\n",
      "Final\n",
      "Final\n",
      "Final\n",
      "Final\n",
      "Final\n",
      "Final\n",
      "Final\n",
      "Final\n",
      "Final\n",
      "Final\n",
      "Final/10\n",
      "Final\n",
      "Postponed\n",
      "Postponed\n"
     ]
    }
   ],
   "source": [
    "for i in range(len(status)):\n",
    "    print(status[i].text)"
   ]
  },
  {
   "cell_type": "code",
   "execution_count": null,
   "id": "0c060277",
   "metadata": {},
   "outputs": [],
   "source": [
    "<div class=\"tablestyle__TableContainer-sc-wsl6eq-2 gNUrMZ\"><div class=\"tablestyle__TableScroller-sc-wsl6eq-1 LMMJf\"><table class=\"tablestyle__StyledTable-sc-wsl6eq-0 bqIWWu\"><thead><tr data-selected=\"false\"><th scope=\"col\" headers=\"tb-2-header col-0\" data-col=\"0\" class=\"table-cellstyle__StyledTableHead-sc-xpntj7-3 deQnKM\"><div class=\"lineScorestyle__StyledHeadCell-sc-1d7bghs-0 cFqMvg\">R</div></th><th scope=\"col\" headers=\"tb-2-header col-1\" data-col=\"1\" class=\"table-cellstyle__StyledTableHead-sc-xpntj7-3 deQnKM\"><div class=\"lineScorestyle__StyledHeadCell-sc-1d7bghs-0 cFqMvg\">H</div></th><th scope=\"col\" headers=\"tb-2-header col-2\" data-col=\"2\" class=\"table-cellstyle__StyledTableHead-sc-xpntj7-3 deQnKM\"><div class=\"lineScorestyle__StyledHeadCell-sc-1d7bghs-0 cFqMvg\">E</div></th></tr></thead><tbody><tr data-selected=\"false\"><td scope=\"row\" id=\"tb-2-body row-0 col-0\" data-col=\"0\" data-row=\"0\" class=\"table-cellstyle__StyledTableCell-sc-xpntj7-2 ljCIPI\"><div class=\"lineScorestyle__StyledInningCell-sc-1d7bghs-1 ddFUsj\">4</div></td><td scope=\"row\" id=\"tb-2-body row-0 col-1\" data-col=\"1\" data-row=\"0\" class=\"table-cellstyle__StyledTableCell-sc-xpntj7-2 ljCIPI\"><div class=\"lineScorestyle__StyledInningCell-sc-1d7bghs-1 bybxiY\">5</div></td><td scope=\"row\" id=\"tb-2-body row-0 col-2\" data-col=\"2\" data-row=\"0\" class=\"table-cellstyle__StyledTableCell-sc-xpntj7-2 ljCIPI\"><div class=\"lineScorestyle__StyledInningCell-sc-1d7bghs-1 bybxiY\">2</div></td></tr><tr data-selected=\"false\"><td scope=\"row\" id=\"tb-2-body row-1 col-0\" data-col=\"0\" data-row=\"1\" class=\"table-cellstyle__StyledTableCell-sc-xpntj7-2 ljCIPI\"><div class=\"lineScorestyle__StyledInningCell-sc-1d7bghs-1 jPCzPZ\">5</div></td><td scope=\"row\" id=\"tb-2-body row-1 col-1\" data-col=\"1\" data-row=\"1\" class=\"table-cellstyle__StyledTableCell-sc-xpntj7-2 ljCIPI\"><div class=\"lineScorestyle__StyledInningCell-sc-1d7bghs-1 ggbVFi\">7</div></td><td scope=\"row\" id=\"tb-2-body row-1 col-2\" data-col=\"2\" data-row=\"1\" class=\"table-cellstyle__StyledTableCell-sc-xpntj7-2 ljCIPI\"><div class=\"lineScorestyle__StyledInningCell-sc-1d7bghs-1 ggbVFi\">1</div></td></tr></tbody></table></div></div>"
   ]
  },
  {
   "cell_type": "code",
   "execution_count": 60,
   "id": "ba63fd2f",
   "metadata": {},
   "outputs": [],
   "source": [
    "data = games[2].find('div',\n",
    "                   class_=\"tablestyle__TableContainer-sc-wsl6eq-2 gNUrMZ\").findChildren()\n",
    "away_runs = data[12].text\n",
    "away_hits = data[14].text\n",
    "away_errors = data[16].text\n",
    "home_runs = data[19].text\n",
    "home_hits = data[21].text\n",
    "home_errors = data[23].text"
   ]
  },
  {
   "cell_type": "code",
   "execution_count": null,
   "id": "8c9377a8",
   "metadata": {},
   "outputs": [],
   "source": [
    "<span data-mlb-test=\"gameStartTimesStateLabel\" class=\"StatusLayerstyle__GameStateWrapper-sc-1s2c2o8-3 feaLYF\">Final</span>"
   ]
  },
  {
   "cell_type": "code",
   "execution_count": 69,
   "id": "00469b27",
   "metadata": {},
   "outputs": [],
   "source": [
    "data = {'date':[], 'away_team': [], 'away_runs': [],'away_team': [],'away_errors': [],\n",
    "        'home_team': [], 'home_runs': [],'home_team': [],'home_errors': []}"
   ]
  },
  {
   "cell_type": "code",
   "execution_count": null,
   "id": "37f4d02d",
   "metadata": {},
   "outputs": [],
   "source": [
    "url = 'https://www.mlb.com/scores/2022-05-03'\n",
    "r = requests.get(url)\n",
    "soup = BeautifulSoup(r.text, 'html.parser')\n",
    "games = soup.find_all('div', class_ =\"ScoresGamestyle__PaddingWrapper-sc-7t80if-5 btOCDf\")"
   ]
  },
  {
   "cell_type": "code",
   "execution_count": 72,
   "id": "aa821e92",
   "metadata": {},
   "outputs": [
    {
     "name": "stdout",
     "output_type": "stream",
     "text": [
      "Braves @ Mets\n",
      "Braves @ Mets\n",
      "D-backs @ Marlins\n",
      "Rangers @ Phillies\n",
      "Twins @ Orioles\n",
      "Yankees @ Blue Jays\n",
      "Angels @ Red Sox\n",
      "White Sox @ Cubs\n",
      "Reds @ Brewers\n",
      "Mariners @ Astros\n",
      "Cardinals @ Royals\n",
      "Nationals @ Rockies\n",
      "Rays @ Athletics\n",
      "Giants @ Dodgers\n",
      "Padres @ Guardians\n",
      "Pirates @ Tigers\n"
     ]
    }
   ],
   "source": [
    "for i in range(len(games)):\n",
    "    teams  = games[i].find_all('div',\n",
    "                       class_=\"TeamWrappersstyle__DesktopTeamWrapper-sc-uqs6qh-0 fdaoCu\")\n",
    "    away_team = teams[0].text\n",
    "    home_team = teams[1].text\n",
    "    print(away_team + ' @ ' + home_team)\n",
    "    data = games[0].find('div',\n",
    "                   class_=\"tablestyle__TableContainer-sc-wsl6eq-2 gNUrMZ\").findChildren()\n",
    "    away_runs = data[12].text\n",
    "    away_hits = data[14].text\n",
    "    away_errors = data[16].text\n",
    "    home_runs = data[19].text\n",
    "    home_hits = data[21].text\n",
    "    home_errors = data[23].text\n",
    "    print(away_team + ' @ ' + home_team)"
   ]
  },
  {
   "cell_type": "code",
   "execution_count": 73,
   "id": "2e241420",
   "metadata": {},
   "outputs": [],
   "source": [
    "ll = list(range(10))"
   ]
  },
  {
   "cell_type": "code",
   "execution_count": null,
   "id": "8af1b80a",
   "metadata": {},
   "outputs": [],
   "source": []
  },
  {
   "cell_type": "code",
   "execution_count": null,
   "id": "1b749ee6",
   "metadata": {},
   "outputs": [],
   "source": []
  }
 ],
 "metadata": {
  "kernelspec": {
   "display_name": "Python 3 (ipykernel)",
   "language": "python",
   "name": "python3"
  },
  "language_info": {
   "codemirror_mode": {
    "name": "ipython",
    "version": 3
   },
   "file_extension": ".py",
   "mimetype": "text/x-python",
   "name": "python",
   "nbconvert_exporter": "python",
   "pygments_lexer": "ipython3",
   "version": "3.9.7"
  }
 },
 "nbformat": 4,
 "nbformat_minor": 5
}
