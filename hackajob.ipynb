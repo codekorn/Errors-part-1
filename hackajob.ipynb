{
 "cells": [
  {
   "cell_type": "code",
   "execution_count": 35,
   "id": "2fc11bb3",
   "metadata": {},
   "outputs": [],
   "source": [
    "from  urllib import request, parse\n",
    "import json"
   ]
  },
  {
   "cell_type": "code",
   "execution_count": 38,
   "id": "1bda2c22",
   "metadata": {},
   "outputs": [],
   "source": [
    "url = 'https://challenges.hackajob.co/swapi/api/people/?'\n",
    "queryString = {'search':'Luke Skywalker'}\n",
    "luke = parse.urlencode(queryString)\n",
    "r = request.urlopen(url+luke).read()\n",
    "data = json.loads(r)\n",
    "films = data['results'][0]['films']"
   ]
  },
  {
   "cell_type": "code",
   "execution_count": 42,
   "id": "fbedb137",
   "metadata": {},
   "outputs": [
    {
     "name": "stdout",
     "output_type": "stream",
     "text": [
      "A New Hope\n",
      "The Empire Strikes Back\n",
      "Return of the Jedi\n",
      "Revenge of the Sith\n",
      "The Force Awakens\n"
     ]
    }
   ],
   "source": [
    "for film in films:\n",
    "    film_req = request.urlopen(film).read()\n",
    "    film_data = json.loads(film_req)\n",
    "    print(film_data['title'])"
   ]
  },
  {
   "cell_type": "code",
   "execution_count": 34,
   "id": "da8bd714",
   "metadata": {},
   "outputs": [],
   "source": [
    "class Solution:\n",
    "\n",
    "def run(n, m, movies):\n",
    "    #\n",
    "    # Write your code below; return type and arguments should be according to the problem\\'s requirements\n",
    "    #\n",
    "    li = list(range(1,m+1))\n",
    "    s = ''\n",
    "    for movie in movies:\n",
    "        print(li)\n",
    "        i = li.index(movie)\n",
    "        s += str(i) + ','\n",
    "        li.pop(i)\n",
    "        li.insert(0, movie)\n",
    "\n",
    "    s = s[:-1]\n",
    "    return s"
   ]
  },
  {
   "cell_type": "code",
   "execution_count": null,
   "id": "669fab86",
   "metadata": {},
   "outputs": [],
   "source": [
    "run(4,5,[4,4,5])"
   ]
  }
 ],
 "metadata": {
  "kernelspec": {
   "display_name": "Python 3 (ipykernel)",
   "language": "python",
   "name": "python3"
  },
  "language_info": {
   "codemirror_mode": {
    "name": "ipython",
    "version": 3
   },
   "file_extension": ".py",
   "mimetype": "text/x-python",
   "name": "python",
   "nbconvert_exporter": "python",
   "pygments_lexer": "ipython3",
   "version": "3.9.7"
  }
 },
 "nbformat": 4,
 "nbformat_minor": 5
}
