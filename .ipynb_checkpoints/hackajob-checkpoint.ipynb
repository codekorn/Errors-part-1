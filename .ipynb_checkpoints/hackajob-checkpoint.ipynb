{
 "cells": [
  {
   "cell_type": "code",
   "execution_count": 35,
   "id": "6e75b269",
   "metadata": {},
   "outputs": [],
   "source": [
    "from  urllib import request, parse\n",
    "import json"
   ]
  },
  {
   "cell_type": "code",
   "execution_count": 38,
   "id": "afcbfea5",
   "metadata": {},
   "outputs": [],
   "source": [
    "url = 'https://challenges.hackajob.co/swapi/api/people/?'\n",
    "queryString = {'search':'Luke Skywalker'}\n",
    "luke = parse.urlencode(queryString)\n",
    "r = request.urlopen(url+luke).read()\n",
    "data = json.loads(r)\n",
    "films = data['results'][0]['films']"
   ]
  },
  {
   "cell_type": "code",
   "execution_count": 39,
   "id": "81464d47",
   "metadata": {},
   "outputs": [
    {
     "data": {
      "text/plain": [
       "['https://challenges.hackajob.co/swapi/api/films/1/',\n",
       " 'https://challenges.hackajob.co/swapi/api/films/2/',\n",
       " 'https://challenges.hackajob.co/swapi/api/films/3/',\n",
       " 'https://challenges.hackajob.co/swapi/api/films/6/',\n",
       " 'https://challenges.hackajob.co/swapi/api/films/7/']"
      ]
     },
     "execution_count": 39,
     "metadata": {},
     "output_type": "execute_result"
    }
   ],
   "source": [
    "for film in films:"
   ]
  },
  {
   "cell_type": "code",
   "execution_count": 34,
   "id": "9918ff45",
   "metadata": {},
   "outputs": [],
   "source": [
    "class Solution:\n",
    "\n",
    "def run(n, m, movies):\n",
    "    #\n",
    "    # Write your code below; return type and arguments should be according to the problem\\'s requirements\n",
    "    #\n",
    "    li = list(range(1,m+1))\n",
    "    s = ''\n",
    "    for movie in movies:\n",
    "        print(li)\n",
    "        i = li.index(movie)\n",
    "        s += str(i) + ','\n",
    "        li.pop(i)\n",
    "        li.insert(0, movie)\n",
    "\n",
    "    s = s[:-1]\n",
    "    return s"
   ]
  },
  {
   "cell_type": "code",
   "execution_count": null,
   "id": "0f39e4c0",
   "metadata": {},
   "outputs": [],
   "source": [
    "run(4,5,[4,4,5])"
   ]
  }
 ],
 "metadata": {
  "kernelspec": {
   "display_name": "Python 3 (ipykernel)",
   "language": "python",
   "name": "python3"
  },
  "language_info": {
   "codemirror_mode": {
    "name": "ipython",
    "version": 3
   },
   "file_extension": ".py",
   "mimetype": "text/x-python",
   "name": "python",
   "nbconvert_exporter": "python",
   "pygments_lexer": "ipython3",
   "version": "3.9.7"
  }
 },
 "nbformat": 4,
 "nbformat_minor": 5
}
