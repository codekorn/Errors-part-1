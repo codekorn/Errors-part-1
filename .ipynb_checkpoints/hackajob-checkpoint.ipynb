{
 "cells": [
  {
   "cell_type": "code",
   "execution_count": 35,
   "id": "ae1afef5",
   "metadata": {},
   "outputs": [],
   "source": [
    "from  urllib import request, parse\n",
    "import json"
   ]
  },
  {
   "cell_type": "code",
   "execution_count": 38,
   "id": "f572dac3",
   "metadata": {},
   "outputs": [],
   "source": [
    "url = 'https://challenges.hackajob.co/swapi/api/people/?'\n",
    "queryString = {'search':'Luke Skywalker'}\n",
    "luke = parse.urlencode(queryString)\n",
    "r = request.urlopen(url+luke).read()\n",
    "data = json.loads(r)\n",
    "films = data['results'][0]['films']"
   ]
  },
  {
   "cell_type": "code",
   "execution_count": 42,
   "id": "40c942fc",
   "metadata": {},
   "outputs": [
    {
     "name": "stdout",
     "output_type": "stream",
     "text": [
      "A New Hope\n",
      "The Empire Strikes Back\n",
      "Return of the Jedi\n",
      "Revenge of the Sith\n",
      "The Force Awakens\n"
     ]
    }
   ],
   "source": [
    "for film in films:\n",
    "    film_req = request.urlopen(film).read()\n",
    "    film_data = json.loads(film_req)\n",
    "    print(film_data['title'])"
   ]
  },
  {
   "cell_type": "code",
   "execution_count": 45,
   "id": "05463bbf",
   "metadata": {},
   "outputs": [],
   "source": [
    "url = 'https://challenges.hackajob.co/swapi/api/films/?'\n",
    "queryString = {'search':'A New Hope'}\n",
    "luke = parse.urlencode(queryString)\n",
    "r = request.urlopen(url+luke).read()\n",
    "data = json.loads(r)\n",
    "characters = data['results'][0]['characters']"
   ]
  },
  {
   "cell_type": "code",
   "execution_count": 47,
   "id": "d9b29c46",
   "metadata": {},
   "outputs": [
    {
     "name": "stdout",
     "output_type": "stream",
     "text": [
      "Luke Skywalker\n",
      "C-3PO\n",
      "R2-D2\n",
      "Darth Vader\n",
      "Leia Organa\n",
      "Owen Lars\n",
      "Beru Whitesun lars\n",
      "R5-D4\n",
      "Biggs Darklighter\n",
      "Obi-Wan Kenobi\n",
      "Wilhuff Tarkin\n",
      "Chewbacca\n",
      "Han Solo\n",
      "Greedo\n",
      "Jabba Desilijic Tiure\n",
      "Wedge Antilles\n",
      "Jek Tono Porkins\n",
      "Raymus Antilles\n"
     ]
    }
   ],
   "source": [
    "for char in characters:\n",
    "    char_req = request.urlopen(char).read()\n",
    "    char_data = json.loads(char_req)\n",
    "    print(char_data['name'])"
   ]
  },
  {
   "cell_type": "code",
   "execution_count": null,
   "id": "a26089f1",
   "metadata": {},
   "outputs": [],
   "source": [
    "e"
   ]
  }
 ],
 "metadata": {
  "kernelspec": {
   "display_name": "Python 3 (ipykernel)",
   "language": "python",
   "name": "python3"
  },
  "language_info": {
   "codemirror_mode": {
    "name": "ipython",
    "version": 3
   },
   "file_extension": ".py",
   "mimetype": "text/x-python",
   "name": "python",
   "nbconvert_exporter": "python",
   "pygments_lexer": "ipython3",
   "version": "3.9.7"
  }
 },
 "nbformat": 4,
 "nbformat_minor": 5
}
