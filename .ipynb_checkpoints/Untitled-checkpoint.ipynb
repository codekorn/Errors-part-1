{
 "cells": [
  {
   "cell_type": "code",
   "execution_count": 3,
   "id": "297aef29",
   "metadata": {},
   "outputs": [],
   "source": [
    "from urllib import request\n",
    "import json"
   ]
  },
  {
   "cell_type": "code",
   "execution_count": 24,
   "id": "81249097",
   "metadata": {},
   "outputs": [],
   "source": [
    "url = 'https://s3.eu-west-1.amazonaws.com/hackajob-assets1.p.hackajob/challenges/football_session/football.json'\n",
    "r = request.urlopen(url).read()"
   ]
  },
  {
   "cell_type": "code",
   "execution_count": 25,
   "id": "b2691e40",
   "metadata": {},
   "outputs": [],
   "source": [
    "data = json.loads(data.decode('utf-8'))"
   ]
  },
  {
   "cell_type": "code",
   "execution_count": 48,
   "id": "f66b5610",
   "metadata": {},
   "outputs": [],
   "source": [
    "teamKey = 'manutd'"
   ]
  },
  {
   "cell_type": "code",
   "execution_count": 49,
   "id": "e83a8102",
   "metadata": {},
   "outputs": [],
   "source": [
    "score = 0\n",
    "for rnd in data['rounds']:\n",
    "    for match in rnd['matches']:\n",
    "        if match['team1']['key'] == teamKey:\n",
    "            score += match['score1']\n",
    "        elif match['team2']['key'] == teamKey:\n",
    "            score += match['score2']"
   ]
  },
  {
   "cell_type": "code",
   "execution_count": 50,
   "id": "762245b9",
   "metadata": {},
   "outputs": [
    {
     "data": {
      "text/plain": [
       "62"
      ]
     },
     "execution_count": 50,
     "metadata": {},
     "output_type": "execute_result"
    }
   ],
   "source": [
    "score"
   ]
  },
  {
   "cell_type": "code",
   "execution_count": 46,
   "id": "d9c0dd5d",
   "metadata": {},
   "outputs": [
    {
     "data": {
      "text/plain": [
       "{'date': '2015-05-24',\n",
       " 'team1': {'key': 'stoke', 'name': 'Stoke City', 'code': 'STK'},\n",
       " 'team2': {'key': 'liverpool', 'name': 'Liverpool', 'code': 'LIV'},\n",
       " 'score1': 6,\n",
       " 'score2': 1}"
      ]
     },
     "execution_count": 46,
     "metadata": {},
     "output_type": "execute_result"
    }
   ],
   "source": [
    "data['rounds'][-1]['matches'][-1]"
   ]
  },
  {
   "cell_type": "code",
   "execution_count": null,
   "id": "e7914fc9",
   "metadata": {},
   "outputs": [],
   "source": []
  }
 ],
 "metadata": {
  "kernelspec": {
   "display_name": "Python 3 (ipykernel)",
   "language": "python",
   "name": "python3"
  },
  "language_info": {
   "codemirror_mode": {
    "name": "ipython",
    "version": 3
   },
   "file_extension": ".py",
   "mimetype": "text/x-python",
   "name": "python",
   "nbconvert_exporter": "python",
   "pygments_lexer": "ipython3",
   "version": "3.9.7"
  }
 },
 "nbformat": 4,
 "nbformat_minor": 5
}
