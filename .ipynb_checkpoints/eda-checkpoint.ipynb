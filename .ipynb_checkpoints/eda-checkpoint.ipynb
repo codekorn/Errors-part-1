{
 "cells": [
  {
   "cell_type": "code",
   "execution_count": 2,
   "id": "12496dae",
   "metadata": {},
   "outputs": [],
   "source": [
    "import pandas as pd\n",
    "import numpy as np\n",
    "import matplotlib.pyplot as plt \n",
    "import seaborn as sns\n",
    "import plotly.express as px"
   ]
  },
  {
   "cell_type": "code",
   "execution_count": 4,
   "id": "713218c4",
   "metadata": {},
   "outputs": [],
   "source": [
    "df_2019 = pd.read_csv('2019_scores.csv')"
   ]
  },
  {
   "cell_type": "code",
   "execution_count": 6,
   "id": "ac8ffcce",
   "metadata": {},
   "outputs": [
    {
     "data": {
      "text/plain": [
       "Index(['date', 'away_team', 'away_runs', 'away_hits', 'away_errors',\n",
       "       'home_team', 'home_runs', 'home_hits', 'home_errors'],\n",
       "      dtype='object')"
      ]
     },
     "execution_count": 6,
     "metadata": {},
     "output_type": "execute_result"
    }
   ],
   "source": [
    "df_2019.columns"
   ]
  },
  {
   "cell_type": "code",
   "execution_count": null,
   "id": "a3fbfbd6",
   "metadata": {},
   "outputs": [],
   "source": [
    "df_2019[['away_team','home_runs','home_runs','home_runs']]"
   ]
  }
 ],
 "metadata": {
  "kernelspec": {
   "display_name": "Python 3 (ipykernel)",
   "language": "python",
   "name": "python3"
  },
  "language_info": {
   "codemirror_mode": {
    "name": "ipython",
    "version": 3
   },
   "file_extension": ".py",
   "mimetype": "text/x-python",
   "name": "python",
   "nbconvert_exporter": "python",
   "pygments_lexer": "ipython3",
   "version": "3.9.7"
  }
 },
 "nbformat": 4,
 "nbformat_minor": 5
}
